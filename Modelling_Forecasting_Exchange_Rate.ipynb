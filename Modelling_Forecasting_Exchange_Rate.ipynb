{
  "cells": [
    {
      "cell_type": "markdown",
      "metadata": {
        "id": "view-in-github",
        "colab_type": "text"
      },
      "source": [
        "<a href=\"https://colab.research.google.com/github/adikush1/Modelling-And-Forecasting-Exchange-Rate/blob/main/Modelling_Forecasting_Exchange_Rate.ipynb\" target=\"_parent\"><img src=\"https://colab.research.google.com/assets/colab-badge.svg\" alt=\"Open In Colab\"/></a>"
      ]
    },
    {
      "cell_type": "code",
      "source": [
        "from google.colab import drive\n",
        "drive.mount('/content/drive')"
      ],
      "metadata": {
        "colab": {
          "base_uri": "https://localhost:8080/"
        },
        "id": "aivAkpCf_Lwb",
        "outputId": "a8fc4d4a-a4cf-4ed3-c798-bf49f7c6ac68"
      },
      "id": "aivAkpCf_Lwb",
      "execution_count": null,
      "outputs": [
        {
          "output_type": "stream",
          "name": "stdout",
          "text": [
            "Drive already mounted at /content/drive; to attempt to forcibly remount, call drive.mount(\"/content/drive\", force_remount=True).\n"
          ]
        }
      ]
    },
    {
      "cell_type": "code",
      "execution_count": null,
      "id": "6eabb68e",
      "metadata": {
        "id": "6eabb68e"
      },
      "outputs": [],
      "source": [
        "import pandas as pd\n",
        "import numpy as np\n",
        "import matplotlib.pyplot as plt\n",
        "import seaborn as sn\n",
        "%matplotlib inline"
      ]
    },
    {
      "cell_type": "code",
      "execution_count": null,
      "id": "76c89b4a",
      "metadata": {
        "colab": {
          "base_uri": "https://localhost:8080/",
          "height": 224
        },
        "id": "76c89b4a",
        "outputId": "576a882e-cae9-49d4-e20d-40e145cf121c"
      },
      "outputs": [
        {
          "output_type": "execute_result",
          "data": {
            "text/plain": [
              "   Year  Trade Deficit (% of GDP)  \\\n",
              "0  1978                      0.28   \n",
              "1  1979                      1.42   \n",
              "2  1980                      3.11   \n",
              "3  1981                      2.63   \n",
              "4  1982                      2.16   \n",
              "\n",
              "   Total reserves (includes gold, current US$)   Population growth (annual %)  \\\n",
              "0                                  8.316116e+09                          2.24   \n",
              "1                                  1.181541e+10                          2.25   \n",
              "2                                  1.200979e+10                          2.29   \n",
              "3                                  8.108838e+09                          2.30   \n",
              "4                                  8.241562e+09                          2.29   \n",
              "\n",
              "   Crude Oil Price (dollar per barrel)  FDI (% GDP)  Exchange Rates  \n",
              "0                                 9.00     0.013175        8.192840  \n",
              "1                                12.64     0.031747        8.125791  \n",
              "2                                21.59     0.042485        7.862945  \n",
              "3                                31.77     0.047506        8.658523  \n",
              "4                                28.52     0.035912        9.455132  "
            ],
            "text/html": [
              "\n",
              "  <div id=\"df-9c280820-7a44-4566-a831-ef5f4ece4c25\" class=\"colab-df-container\">\n",
              "    <div>\n",
              "<style scoped>\n",
              "    .dataframe tbody tr th:only-of-type {\n",
              "        vertical-align: middle;\n",
              "    }\n",
              "\n",
              "    .dataframe tbody tr th {\n",
              "        vertical-align: top;\n",
              "    }\n",
              "\n",
              "    .dataframe thead th {\n",
              "        text-align: right;\n",
              "    }\n",
              "</style>\n",
              "<table border=\"1\" class=\"dataframe\">\n",
              "  <thead>\n",
              "    <tr style=\"text-align: right;\">\n",
              "      <th></th>\n",
              "      <th>Year</th>\n",
              "      <th>Trade Deficit (% of GDP)</th>\n",
              "      <th>Total reserves (includes gold, current US$)</th>\n",
              "      <th>Population growth (annual %)</th>\n",
              "      <th>Crude Oil Price (dollar per barrel)</th>\n",
              "      <th>FDI (% GDP)</th>\n",
              "      <th>Exchange Rates</th>\n",
              "    </tr>\n",
              "  </thead>\n",
              "  <tbody>\n",
              "    <tr>\n",
              "      <th>0</th>\n",
              "      <td>1978</td>\n",
              "      <td>0.28</td>\n",
              "      <td>8.316116e+09</td>\n",
              "      <td>2.24</td>\n",
              "      <td>9.00</td>\n",
              "      <td>0.013175</td>\n",
              "      <td>8.192840</td>\n",
              "    </tr>\n",
              "    <tr>\n",
              "      <th>1</th>\n",
              "      <td>1979</td>\n",
              "      <td>1.42</td>\n",
              "      <td>1.181541e+10</td>\n",
              "      <td>2.25</td>\n",
              "      <td>12.64</td>\n",
              "      <td>0.031747</td>\n",
              "      <td>8.125791</td>\n",
              "    </tr>\n",
              "    <tr>\n",
              "      <th>2</th>\n",
              "      <td>1980</td>\n",
              "      <td>3.11</td>\n",
              "      <td>1.200979e+10</td>\n",
              "      <td>2.29</td>\n",
              "      <td>21.59</td>\n",
              "      <td>0.042485</td>\n",
              "      <td>7.862945</td>\n",
              "    </tr>\n",
              "    <tr>\n",
              "      <th>3</th>\n",
              "      <td>1981</td>\n",
              "      <td>2.63</td>\n",
              "      <td>8.108838e+09</td>\n",
              "      <td>2.30</td>\n",
              "      <td>31.77</td>\n",
              "      <td>0.047506</td>\n",
              "      <td>8.658523</td>\n",
              "    </tr>\n",
              "    <tr>\n",
              "      <th>4</th>\n",
              "      <td>1982</td>\n",
              "      <td>2.16</td>\n",
              "      <td>8.241562e+09</td>\n",
              "      <td>2.29</td>\n",
              "      <td>28.52</td>\n",
              "      <td>0.035912</td>\n",
              "      <td>9.455132</td>\n",
              "    </tr>\n",
              "  </tbody>\n",
              "</table>\n",
              "</div>\n",
              "    <div class=\"colab-df-buttons\">\n",
              "\n",
              "  <div class=\"colab-df-container\">\n",
              "    <button class=\"colab-df-convert\" onclick=\"convertToInteractive('df-9c280820-7a44-4566-a831-ef5f4ece4c25')\"\n",
              "            title=\"Convert this dataframe to an interactive table.\"\n",
              "            style=\"display:none;\">\n",
              "\n",
              "  <svg xmlns=\"http://www.w3.org/2000/svg\" height=\"24px\" viewBox=\"0 -960 960 960\">\n",
              "    <path d=\"M120-120v-720h720v720H120Zm60-500h600v-160H180v160Zm220 220h160v-160H400v160Zm0 220h160v-160H400v160ZM180-400h160v-160H180v160Zm440 0h160v-160H620v160ZM180-180h160v-160H180v160Zm440 0h160v-160H620v160Z\"/>\n",
              "  </svg>\n",
              "    </button>\n",
              "\n",
              "  <style>\n",
              "    .colab-df-container {\n",
              "      display:flex;\n",
              "      gap: 12px;\n",
              "    }\n",
              "\n",
              "    .colab-df-convert {\n",
              "      background-color: #E8F0FE;\n",
              "      border: none;\n",
              "      border-radius: 50%;\n",
              "      cursor: pointer;\n",
              "      display: none;\n",
              "      fill: #1967D2;\n",
              "      height: 32px;\n",
              "      padding: 0 0 0 0;\n",
              "      width: 32px;\n",
              "    }\n",
              "\n",
              "    .colab-df-convert:hover {\n",
              "      background-color: #E2EBFA;\n",
              "      box-shadow: 0px 1px 2px rgba(60, 64, 67, 0.3), 0px 1px 3px 1px rgba(60, 64, 67, 0.15);\n",
              "      fill: #174EA6;\n",
              "    }\n",
              "\n",
              "    .colab-df-buttons div {\n",
              "      margin-bottom: 4px;\n",
              "    }\n",
              "\n",
              "    [theme=dark] .colab-df-convert {\n",
              "      background-color: #3B4455;\n",
              "      fill: #D2E3FC;\n",
              "    }\n",
              "\n",
              "    [theme=dark] .colab-df-convert:hover {\n",
              "      background-color: #434B5C;\n",
              "      box-shadow: 0px 1px 3px 1px rgba(0, 0, 0, 0.15);\n",
              "      filter: drop-shadow(0px 1px 2px rgba(0, 0, 0, 0.3));\n",
              "      fill: #FFFFFF;\n",
              "    }\n",
              "  </style>\n",
              "\n",
              "    <script>\n",
              "      const buttonEl =\n",
              "        document.querySelector('#df-9c280820-7a44-4566-a831-ef5f4ece4c25 button.colab-df-convert');\n",
              "      buttonEl.style.display =\n",
              "        google.colab.kernel.accessAllowed ? 'block' : 'none';\n",
              "\n",
              "      async function convertToInteractive(key) {\n",
              "        const element = document.querySelector('#df-9c280820-7a44-4566-a831-ef5f4ece4c25');\n",
              "        const dataTable =\n",
              "          await google.colab.kernel.invokeFunction('convertToInteractive',\n",
              "                                                    [key], {});\n",
              "        if (!dataTable) return;\n",
              "\n",
              "        const docLinkHtml = 'Like what you see? Visit the ' +\n",
              "          '<a target=\"_blank\" href=https://colab.research.google.com/notebooks/data_table.ipynb>data table notebook</a>'\n",
              "          + ' to learn more about interactive tables.';\n",
              "        element.innerHTML = '';\n",
              "        dataTable['output_type'] = 'display_data';\n",
              "        await google.colab.output.renderOutput(dataTable, element);\n",
              "        const docLink = document.createElement('div');\n",
              "        docLink.innerHTML = docLinkHtml;\n",
              "        element.appendChild(docLink);\n",
              "      }\n",
              "    </script>\n",
              "  </div>\n",
              "\n",
              "\n",
              "<div id=\"df-cecd26f4-6ba5-43ff-8f3e-820805b70659\">\n",
              "  <button class=\"colab-df-quickchart\" onclick=\"quickchart('df-cecd26f4-6ba5-43ff-8f3e-820805b70659')\"\n",
              "            title=\"Suggest charts.\"\n",
              "            style=\"display:none;\">\n",
              "\n",
              "<svg xmlns=\"http://www.w3.org/2000/svg\" height=\"24px\"viewBox=\"0 0 24 24\"\n",
              "     width=\"24px\">\n",
              "    <g>\n",
              "        <path d=\"M19 3H5c-1.1 0-2 .9-2 2v14c0 1.1.9 2 2 2h14c1.1 0 2-.9 2-2V5c0-1.1-.9-2-2-2zM9 17H7v-7h2v7zm4 0h-2V7h2v10zm4 0h-2v-4h2v4z\"/>\n",
              "    </g>\n",
              "</svg>\n",
              "  </button>\n",
              "\n",
              "<style>\n",
              "  .colab-df-quickchart {\n",
              "    background-color: #E8F0FE;\n",
              "    border: none;\n",
              "    border-radius: 50%;\n",
              "    cursor: pointer;\n",
              "    display: none;\n",
              "    fill: #1967D2;\n",
              "    height: 32px;\n",
              "    padding: 0 0 0 0;\n",
              "    width: 32px;\n",
              "  }\n",
              "\n",
              "  .colab-df-quickchart:hover {\n",
              "    background-color: #E2EBFA;\n",
              "    box-shadow: 0px 1px 2px rgba(60, 64, 67, 0.3), 0px 1px 3px 1px rgba(60, 64, 67, 0.15);\n",
              "    fill: #174EA6;\n",
              "  }\n",
              "\n",
              "  [theme=dark] .colab-df-quickchart {\n",
              "    background-color: #3B4455;\n",
              "    fill: #D2E3FC;\n",
              "  }\n",
              "\n",
              "  [theme=dark] .colab-df-quickchart:hover {\n",
              "    background-color: #434B5C;\n",
              "    box-shadow: 0px 1px 3px 1px rgba(0, 0, 0, 0.15);\n",
              "    filter: drop-shadow(0px 1px 2px rgba(0, 0, 0, 0.3));\n",
              "    fill: #FFFFFF;\n",
              "  }\n",
              "</style>\n",
              "\n",
              "  <script>\n",
              "    async function quickchart(key) {\n",
              "      const charts = await google.colab.kernel.invokeFunction(\n",
              "          'suggestCharts', [key], {});\n",
              "    }\n",
              "    (() => {\n",
              "      let quickchartButtonEl =\n",
              "        document.querySelector('#df-cecd26f4-6ba5-43ff-8f3e-820805b70659 button');\n",
              "      quickchartButtonEl.style.display =\n",
              "        google.colab.kernel.accessAllowed ? 'block' : 'none';\n",
              "    })();\n",
              "  </script>\n",
              "</div>\n",
              "    </div>\n",
              "  </div>\n"
            ]
          },
          "metadata": {},
          "execution_count": 65
        }
      ],
      "source": [
        "train_df=pd.read_excel(\"/content/drive/MyDrive/forex_model.xlsx\",sheet_name=\"Linear \")\n",
        "train_df.head()"
      ]
    },
    {
      "cell_type": "markdown",
      "id": "6f7192fc",
      "metadata": {
        "id": "6f7192fc"
      },
      "source": [
        "Correlation"
      ]
    },
    {
      "cell_type": "code",
      "execution_count": null,
      "id": "d10bb101",
      "metadata": {
        "colab": {
          "base_uri": "https://localhost:8080/",
          "height": 611
        },
        "id": "d10bb101",
        "outputId": "3d0ab1f1-ffd7-4477-8b84-fb93f19a8527"
      },
      "outputs": [
        {
          "output_type": "display_data",
          "data": {
            "text/plain": [
              "<Figure size 2500x1000 with 6 Axes>"
            ],
            "image/png": "[encoded data removed]"
          },
          "metadata": {}
        }
      ],
      "source": [
        "import pandas as pd\n",
        "import seaborn as sns\n",
        "import matplotlib.pyplot as plt\n",
        "\n",
        "# Load your dataset\n",
        "# train_df = pd.read_csv(\"your_dataset.csv\")\n",
        "\n",
        "# Calculate correlation matrices\n",
        "pearson_corr_matrix = train_df.corr(method='pearson')\n",
        "spearman_corr_matrix = train_df.corr(method='spearman')\n",
        "kendall_corr_matrix = train_df.corr(method='kendall')\n",
        "\n",
        "# Create heatmaps using Seaborn\n",
        "plt.figure(figsize=(25, 10))\n",
        "\n",
        "# Pearson Correlation Matrix Heatmap\n",
        "plt.subplot(131)\n",
        "sns.heatmap(pearson_corr_matrix, annot=True, cmap='coolwarm', center=0)\n",
        "plt.title(\"Pearson Correlation Matrix\")\n",
        "\n",
        "# Spearman Rank Correlation Matrix Heatmap\n",
        "plt.subplot(132)\n",
        "sns.heatmap(spearman_corr_matrix, annot=True, cmap='coolwarm', center=0)\n",
        "plt.title(\"Spearman Rank Correlation Matrix\")\n",
        "\n",
        "# Kendall Tau Correlation Matrix Heatmap\n",
        "plt.subplot(133)\n",
        "sns.heatmap(kendall_corr_matrix, annot=True, cmap='coolwarm', center=0)\n",
        "plt.title(\"Kendall Tau Correlation Matrix\")\n",
        "\n",
        "plt.tight_layout()\n",
        "plt.show()\n"
      ]
    },
    {
      "cell_type": "markdown",
      "source": [
        "1. Logically, exchange rate and trade balance are negatively correlated which says if the trade balance is positive, INR will appreciate.\n",
        "2. Secondly, exchange rate and real interest rate are negatively correlated which says if interest rate is high then the foreign investment will increase and so currency appreciates.\n"
      ],
      "metadata": {
        "id": "o5JsQoaDtutm"
      },
      "id": "o5JsQoaDtutm"
    },
    {
      "cell_type": "markdown",
      "source": [
        "## ***Scaling using Z score***"
      ],
      "metadata": {
        "id": "LfOPPGwqOagd"
      },
      "id": "LfOPPGwqOagd"
    },
    {
      "cell_type": "code",
      "source": [
        "\n",
        "from sklearn.preprocessing import StandardScaler\n",
        "\n",
        "# Assuming your DataFrame is named \"train_df\"\n",
        "independent_features = train_df.drop(\"Exchange Rates\", axis=1)  # Drop the dependent variable\n",
        "\n",
        "# Initialize the StandardScaler\n",
        "scaler = StandardScaler()\n",
        "\n",
        "# Fit and transform the independent features using the scaler\n",
        "scaled_features = scaler.fit_transform(independent_features)\n",
        "\n",
        "# Create a DataFrame with the scaled independent features\n",
        "scaled_independent_df = pd.DataFrame(scaled_features, columns=independent_features.columns)\n",
        "\n",
        "# Combine the scaled independent features with the dependent variable\n",
        "scaled_train_df = pd.concat([scaled_independent_df, train_df[\"Exchange Rates\"]], axis=1)\n",
        "\n",
        "# Display the scaled DataFrame\n",
        "print(scaled_train_df.head())\n"
      ],
      "metadata": {
        "colab": {
          "base_uri": "https://localhost:8080/"
        },
        "id": "5JaGtQ_iOZ0T",
        "outputId": "0bc30d51-b1ce-465f-c885-d1f358429600"
      },
      "id": "5JaGtQ_iOZ0T",
      "execution_count": null,
      "outputs": [
        {
          "output_type": "stream",
          "name": "stdout",
          "text": [
            "       Year  Trade Deficit (% of GDP)  \\\n",
            "0 -1.693979                 -1.219517   \n",
            "1 -1.616980                 -0.514284   \n",
            "2 -1.539981                  0.531193   \n",
            "3 -1.462982                  0.234253   \n",
            "4 -1.385983                 -0.056501   \n",
            "\n",
            "   Total reserves (includes gold, current US$)   Population growth (annual %)  \\\n",
            "0                                     -0.812697                      1.066668   \n",
            "1                                     -0.794015                      1.088106   \n",
            "2                                     -0.792978                      1.173859   \n",
            "3                                     -0.813804                      1.195297   \n",
            "4                                     -0.813095                      1.173859   \n",
            "\n",
            "   Crude Oil Price (dollar per barrel)  FDI (% GDP)  Exchange Rates  \n",
            "0                            -1.087018    -1.040050        8.192840  \n",
            "1                            -0.954417    -1.019180        8.125791  \n",
            "2                            -0.628380    -1.007113        7.862945  \n",
            "3                            -0.257535    -1.001471        8.658523  \n",
            "4                            -0.375929    -1.014499        9.455132  \n"
          ]
        }
      ]
    },
    {
      "cell_type": "markdown",
      "source": [
        "### ***ARIMA TIME SERIES MODEL***"
      ],
      "metadata": {
        "id": "r11KyZssT1sp"
      },
      "id": "r11KyZssT1sp"
    },
    {
      "cell_type": "code",
      "source": [
        "\n",
        "from statsmodels.tsa.arima.model import ARIMA\n",
        "from sklearn.metrics import mean_squared_error, mean_absolute_error\n",
        "import numpy as np\n",
        "\n",
        "# Load your scaled dataset (replace with your actual data)\n",
        "# scaled_data = pd.read_csv(\"your_scaled_dataset.csv\")\n",
        "\n",
        "# Assuming your scaled dataset contains features and a scaled target \"Exchange Rates\"\n",
        "scaled_features = scaled_train_df.drop(\"Exchange Rates\", axis=1)\n",
        "scaled_target = scaled_train_df[\"Exchange Rates\"]\n",
        "\n",
        "# Split the data into training and test sets\n",
        "train_size = int(0.8 * len(scaled_features))\n",
        "train_features, test_features = scaled_features[:train_size], scaled_features[train_size:]\n",
        "train_target, test_target = scaled_target[:train_size], scaled_target[train_size:]\n",
        "\n",
        "# Fit an ARIMA model to the scaled training target\n",
        "p, d, q = 1, 1, 1  # Set appropriate values for ARIMA order\n",
        "model = ARIMA(train_target, order=(p, d, q))\n",
        "model_fit = model.fit()\n",
        "\n",
        "# Forecast future values using the ARIMA model\n",
        "forecast_steps = len(test_features)\n",
        "forecast = model_fit.forecast(steps=forecast_steps)\n",
        "\n",
        "# Calculate evaluation metrics for ARIMA\n",
        "arima_rmse = np.sqrt(mean_squared_error(test_target, forecast))\n",
        "arima_mae = mean_absolute_error(test_target, forecast)\n",
        "arima_mape = np.mean(np.abs((test_target - forecast) / test_target)) * 100\n",
        "\n",
        "print(\"ARIMA RMSE:\", arima_rmse)\n",
        "print(\"ARIMA MAE:\", arima_mae)\n",
        "print(\"ARIMA MAPE:\", arima_mape)\n"
      ],
      "metadata": {
        "colab": {
          "base_uri": "https://localhost:8080/"
        },
        "id": "WEybz66nOZsj",
        "outputId": "055dfcc2-c942-461a-9bb5-e8a78b708ab0"
      },
      "id": "WEybz66nOZsj",
      "execution_count": null,
      "outputs": [
        {
          "output_type": "stream",
          "name": "stdout",
          "text": [
            "ARIMA RMSE: 1.6781641953418283\n",
            "ARIMA MAE: 1.3411614022937357\n",
            "ARIMA MAPE: 1.9106386624838878\n"
          ]
        }
      ]
    },
    {
      "cell_type": "markdown",
      "source": [
        "## ***ARMA TIME SERIES MODEL***"
      ],
      "metadata": {
        "id": "5Dp-BiX5dovw"
      },
      "id": "5Dp-BiX5dovw"
    },
    {
      "cell_type": "code",
      "source": [
        "\n",
        "from statsmodels.tsa.arima.model import ARIMA\n",
        "from sklearn.metrics import mean_squared_error, mean_absolute_error\n",
        "import numpy as np\n",
        "\n",
        "# Load your scaled dataset (replace with your actual data)\n",
        "# scaled_data = pd.read_csv(\"your_scaled_dataset.csv\")\n",
        "\n",
        "# Assuming your scaled dataset contains features and a scaled target \"Exchange Rates\"\n",
        "scaled_features = scaled_train_df.drop(\"Exchange Rates\", axis=1)\n",
        "scaled_target = scaled_train_df[\"Exchange Rates\"]\n",
        "\n",
        "# Split the data into training and test sets\n",
        "train_size = int(0.8 * len(scaled_features))\n",
        "train_features, test_features = scaled_features[:train_size], scaled_features[train_size:]\n",
        "train_target, test_target = scaled_target[:train_size], scaled_target[train_size:]\n",
        "\n",
        "# Fit an ARMA model to the scaled training target\n",
        "p, q = 1, 1  # Set appropriate values for ARMA order\n",
        "d = 0  # Since we're using ARMA, differencing is not needed\n",
        "model = ARIMA(train_target, order=(p, d, q))\n",
        "model_fit = model.fit()\n",
        "\n",
        "# Forecast future values using the ARMA model\n",
        "forecast_steps = len(test_features)\n",
        "forecast = model_fit.forecast(steps=forecast_steps)\n",
        "\n",
        "# Calculate evaluation metrics for ARMA\n",
        "arma_rmse = np.sqrt(mean_squared_error(test_target, forecast))\n",
        "arma_mae = mean_absolute_error(test_target, forecast)\n",
        "arma_mape = np.mean(np.abs((test_target - forecast) / test_target)) * 100\n",
        "\n",
        "print(\"ARMA RMSE:\", arma_rmse)\n",
        "print(\"ARMA MAE:\", arma_mae)\n",
        "print(\"ARMA MAPE:\", arma_mape)\n"
      ],
      "metadata": {
        "colab": {
          "base_uri": "https://localhost:8080/"
        },
        "id": "1MZkHbktOZlY",
        "outputId": "2fcd8f28-207f-4952-c6aa-d89bf8365f3c"
      },
      "id": "1MZkHbktOZlY",
      "execution_count": null,
      "outputs": [
        {
          "output_type": "stream",
          "name": "stdout",
          "text": [
            "ARMA RMSE: 12.32428461267272\n",
            "ARMA MAE: 10.785028408284672\n",
            "ARMA MAPE: 15.019397944703877\n"
          ]
        }
      ]
    },
    {
      "cell_type": "markdown",
      "source": [
        "## ***LINEAR REGRESSION***"
      ],
      "metadata": {
        "id": "SPQ1ftGhdx4W"
      },
      "id": "SPQ1ftGhdx4W"
    },
    {
      "cell_type": "code",
      "source": [
        "\n",
        "import statsmodels.api as sm\n",
        "\n",
        "# Load your scaled dataset\n",
        "# scaled_data = pd.read_csv(\"your_scaled_dataset.csv\")\n",
        "\n",
        "# Assuming your scaled dataset contains features and a scaled target \"Exchange Rate\"\n",
        "scaled_features = scaled_train_df.drop(\"Exchange Rates\", axis=1)  # Replace with your feature columns\n",
        "scaled_target = scaled_train_df[\"Exchange Rates\"]\n",
        "\n",
        "# Add a constant term to the features for the intercept in the linear regression\n",
        "scaled_features = sm.add_constant(scaled_features)\n",
        "\n",
        "# Split the data into training and test sets\n",
        "train_size = int(0.8 * len(scaled_features))\n",
        "train_features, test_features = scaled_features[:train_size], scaled_features[train_size:]\n",
        "train_target, test_target = scaled_target[:train_size], scaled_target[train_size:]\n",
        "\n",
        "# Fit Linear Regression using Ordinary Least Squares (OLS)\n",
        "model = sm.OLS(train_target, train_features)\n",
        "result = model.fit()\n",
        "\n",
        "# Predict using the fitted model\n",
        "predictions = result.predict(test_features)\n",
        "\n",
        "# Calculate evaluation metrics for Linear Regression\n",
        "rmse = np.sqrt(np.mean((test_target - predictions) ** 2))\n",
        "mae = np.mean(np.abs(test_target - predictions))\n",
        "mape = np.mean(np.abs((test_target - predictions) / test_target)) * 100\n",
        "\n",
        "print(\"Linear Regression RMSE:\", rmse)\n",
        "print(\"Linear Regression MAE:\", mae)\n",
        "print(\"Linear Regression MAPE:\", mape)\n",
        "\n",
        "# Print R-squared value from the fitted model\n",
        "print(\"R-squared:\", result.rsquared)\n"
      ],
      "metadata": {
        "colab": {
          "base_uri": "https://localhost:8080/"
        },
        "id": "2IyMkqs6VLKw",
        "outputId": "5bd6200c-167b-44d9-d0d3-4903e267db16"
      },
      "id": "2IyMkqs6VLKw",
      "execution_count": null,
      "outputs": [
        {
          "output_type": "stream",
          "name": "stdout",
          "text": [
            "Linear Regression RMSE: 12.751292779947853\n",
            "Linear Regression MAE: 11.317372929590094\n",
            "Linear Regression MAPE: 15.939007250600657\n",
            "R-squared: 0.9821242495535992\n"
          ]
        }
      ]
    },
    {
      "cell_type": "code",
      "source": [
        "\n",
        "from sklearn.linear_model import LinearRegression\n",
        "import statsmodels.api as sm\n",
        "\n",
        "# Load your scaled dataset\n",
        "# scaled_data = pd.read_csv(\"your_scaled_dataset.csv\")\n",
        "\n",
        "# Assuming your scaled dataset contains features and a scaled target \"Exchange Rate\"\n",
        "scaled_features = scaled_train_df.drop(\"Exchange Rates\", axis=1)  # Replace with your feature columns\n",
        "scaled_target = scaled_train_df[\"Exchange Rates\"]\n",
        "\n",
        "# Split the data into training and test sets\n",
        "train_size = int(0.8 * len(scaled_features))\n",
        "train_features, test_features = scaled_features[:train_size], scaled_features[train_size:]\n",
        "train_target, test_target = scaled_target[:train_size], scaled_target[train_size:]\n",
        "\n",
        "# Fit Linear Regression using sklearn's LinearRegression\n",
        "sklearn_model = LinearRegression()\n",
        "sklearn_model.fit(train_features, train_target)\n",
        "sklearn_predictions = sklearn_model.predict(test_features)\n",
        "\n",
        "# Calculate evaluation metrics for sklearn Linear Regression\n",
        "sklearn_rmse = np.sqrt(np.mean((test_target - sklearn_predictions) ** 2))\n",
        "sklearn_mae = np.mean(np.abs(test_target - sklearn_predictions))\n",
        "sklearn_mape = np.mean(np.abs((test_target - sklearn_predictions) / test_target)) * 100\n",
        "\n",
        "print(\"Sklearn Linear Regression RMSE:\", sklearn_rmse)\n",
        "print(\"Sklearn Linear Regression MAE:\", sklearn_mae)\n",
        "print(\"Sklearn Linear Regression MAPE:\", sklearn_mape)\n",
        "\n",
        "# Fit Linear Regression using statsmodels' OLS\n",
        "statsmodels_features = sm.add_constant(train_features)\n",
        "statsmodels_model = sm.OLS(train_target, statsmodels_features)\n",
        "statsmodels_result = statsmodels_model.fit()\n",
        "statsmodels_predictions = statsmodels_result.predict(sm.add_constant(test_features))\n",
        "\n",
        "# Calculate evaluation metrics for statsmodels OLS\n",
        "statsmodels_rmse = np.sqrt(np.mean((test_target - statsmodels_predictions) ** 2))\n",
        "statsmodels_mae = np.mean(np.abs(test_target - statsmodels_predictions))\n",
        "statsmodels_mape = np.mean(np.abs((test_target - statsmodels_predictions) / test_target)) * 100\n",
        "\n",
        "print(\"Statsmodels Linear Regression RMSE:\", statsmodels_rmse)\n",
        "print(\"Statsmodels Linear Regression MAE:\", statsmodels_mae)\n",
        "print(\"Statsmodels Linear Regression MAPE:\", statsmodels_mape)\n",
        "\n",
        "# Print R-squared values from both implementations\n",
        "print(\"Sklearn Linear Regression R-squared:\", sklearn_model.score(test_features, test_target))\n",
        "print(\"Statsmodels Linear Regression R-squared:\", statsmodels_result.rsquared)\n"
      ],
      "metadata": {
        "colab": {
          "base_uri": "https://localhost:8080/"
        },
        "id": "cuzG8iEeXUI3",
        "outputId": "3060d579-afdf-41ce-b534-1c68f837c43d"
      },
      "id": "cuzG8iEeXUI3",
      "execution_count": null,
      "outputs": [
        {
          "output_type": "stream",
          "name": "stdout",
          "text": [
            "Sklearn Linear Regression RMSE: 12.751292779947857\n",
            "Sklearn Linear Regression MAE: 11.317372929590098\n",
            "Sklearn Linear Regression MAPE: 15.939007250600662\n",
            "Statsmodels Linear Regression RMSE: 12.751292779947853\n",
            "Statsmodels Linear Regression MAE: 11.317372929590094\n",
            "Statsmodels Linear Regression MAPE: 15.939007250600657\n",
            "Sklearn Linear Regression R-squared: -4.859384680573057\n",
            "Statsmodels Linear Regression R-squared: 0.9821242495535992\n"
          ]
        }
      ]
    },
    {
      "cell_type": "code",
      "source": [
        "import pandas as pd\n",
        "from statsmodels.tsa.api import VAR\n",
        "from statsmodels.tools.eval_measures import rmse, meanabs\n",
        "\n",
        "# Assuming your scaled dataset contains features and a scaled target \"Exchange Rates\"\n",
        "selected_features = [\"Trade Deficit (% of GDP)\", \"Total reserves (includes gold, current US$) \",\n",
        "                     \"Population growth (annual %)\", \"Crude Oil Price (dollar per barrel)\",\n",
        "                     \"FDI (% GDP)\"]  # Update with your selected feature columns\n",
        "\n",
        "scaled_features = scaled_train_df[selected_features]\n",
        "scaled_target = scaled_train_df[\"Exchange Rates\"]\n",
        "\n",
        "# Split the scaled data into training and test sets\n",
        "train_size = int(0.8 * len(scaled_features))\n",
        "train_features, test_features = scaled_features[:train_size], scaled_features[train_size:]\n",
        "train_target, test_target = scaled_target[:train_size], scaled_target[train_size:]\n",
        "\n",
        "# Fit the VAR model on the scaled training data\n",
        "model = VAR(train_features)\n",
        "lags = model.select_order(maxlags=2)  # Choose an appropriate lag order\n",
        "result = model.fit(lags.maxlags)  # Use lags.maxlags to specify the selected lag order\n",
        "\n",
        "# Forecast future values on the scaled test data\n",
        "forecast = result.forecast(train_features.values[-lags.maxlags:], steps=len(test_features))\n",
        "\n",
        "# Create a DataFrame for the forecasted values\n",
        "forecast_df = pd.DataFrame(forecast, columns=selected_features, index=test_features.index)\n",
        "\n",
        "# Calculate evaluation metrics for the forecast\n",
        "forecast_rmse = rmse(test_target, forecast_df[\"Exchange Rates\"])\n",
        "forecast_mae = meanabs(test_target, forecast_df[\"Exchange Rates\"])\n",
        "\n",
        "print(\"Forecast RMSE:\", forecast_rmse)\n",
        "print(\"Forecast MAE:\", forecast_mae)\n"
      ],
      "metadata": {
        "colab": {
          "base_uri": "https://localhost:8080/",
          "height": 245
        },
        "id": "F9MS4lD9YcIa",
        "outputId": "d16d4317-6363-4dfa-aee4-86b94850fd63"
      },
      "id": "F9MS4lD9YcIa",
      "execution_count": null,
      "outputs": [
        {
          "output_type": "error",
          "ename": "AttributeError",
          "evalue": "ignored",
          "traceback": [
            "\u001b[0;31m---------------------------------------------------------------------------\u001b[0m",
            "\u001b[0;31mAttributeError\u001b[0m                            Traceback (most recent call last)",
            "\u001b[0;32m<ipython-input-82-80671ac8c1b2>\u001b[0m in \u001b[0;36m<cell line: 21>\u001b[0;34m()\u001b[0m\n\u001b[1;32m     19\u001b[0m \u001b[0mmodel\u001b[0m \u001b[0;34m=\u001b[0m \u001b[0mVAR\u001b[0m\u001b[0;34m(\u001b[0m\u001b[0mtrain_features\u001b[0m\u001b[0;34m)\u001b[0m\u001b[0;34m\u001b[0m\u001b[0;34m\u001b[0m\u001b[0m\n\u001b[1;32m     20\u001b[0m \u001b[0mlags\u001b[0m \u001b[0;34m=\u001b[0m \u001b[0mmodel\u001b[0m\u001b[0;34m.\u001b[0m\u001b[0mselect_order\u001b[0m\u001b[0;34m(\u001b[0m\u001b[0mmaxlags\u001b[0m\u001b[0;34m=\u001b[0m\u001b[0;36m2\u001b[0m\u001b[0;34m)\u001b[0m  \u001b[0;31m# Choose an appropriate lag order\u001b[0m\u001b[0;34m\u001b[0m\u001b[0;34m\u001b[0m\u001b[0m\n\u001b[0;32m---> 21\u001b[0;31m \u001b[0mresult\u001b[0m \u001b[0;34m=\u001b[0m \u001b[0mmodel\u001b[0m\u001b[0;34m.\u001b[0m\u001b[0mfit\u001b[0m\u001b[0;34m(\u001b[0m\u001b[0mlags\u001b[0m\u001b[0;34m.\u001b[0m\u001b[0mmaxlags\u001b[0m\u001b[0;34m)\u001b[0m  \u001b[0;31m# Use lags.maxlags to specify the selected lag order\u001b[0m\u001b[0;34m\u001b[0m\u001b[0;34m\u001b[0m\u001b[0m\n\u001b[0m\u001b[1;32m     22\u001b[0m \u001b[0;34m\u001b[0m\u001b[0m\n\u001b[1;32m     23\u001b[0m \u001b[0;31m# Forecast future values on the scaled test data\u001b[0m\u001b[0;34m\u001b[0m\u001b[0;34m\u001b[0m\u001b[0m\n",
            "\u001b[0;31mAttributeError\u001b[0m: 'LagOrderResults' object has no attribute 'maxlags'"
          ]
        }
      ]
    },
    {
      "cell_type": "markdown",
      "id": "7ea6e7e6",
      "metadata": {
        "id": "7ea6e7e6"
      },
      "source": [
        "# Analysis"
      ]
    },
    {
      "cell_type": "markdown",
      "source": [
        "Inflation"
      ],
      "metadata": {
        "id": "SdSj2Aq0rqgK"
      },
      "id": "SdSj2Aq0rqgK"
    },
    {
      "cell_type": "code",
      "execution_count": null,
      "id": "ce45ea62",
      "metadata": {
        "colab": {
          "base_uri": "https://localhost:8080/",
          "height": 312
        },
        "id": "ce45ea62",
        "outputId": "58e35cf5-59d8-4e73-a1b0-bf964cb38f70"
      },
      "outputs": [
        {
          "output_type": "execute_result",
          "data": {
            "text/plain": [
              "Text(0, 0.5, 'CPI')"
            ]
          },
          "metadata": {},
          "execution_count": 8
        },
        {
          "output_type": "display_data",
          "data": {
            "text/plain": [
              "<Figure size 432x288 with 1 Axes>"
            ],
            "image/png": "[encoded data removed]"
          },
          "metadata": {
            "needs_background": "light"
          }
        }
      ],
      "source": [
        "plt.plot(train_df['Year'],train_df['Inflation'])\n",
        "plt.title('Inflation across years')\n",
        "plt.xlabel('Year')\n",
        "plt.ylabel('CPI')"
      ]
    },
    {
      "cell_type": "markdown",
      "source": [
        "Here we can see\n",
        "\n",
        "1. Around 1973-74 due to over dependence of fuel import, inflation crossed above 20% for the first time in the history\n",
        "\n",
        "2. During 1991 Indian economic crisis led to hike inflation\n",
        "\n",
        "3. 2008 Global Financial Crisis has led to another spike in inflation\n"
      ],
      "metadata": {
        "id": "MO8AG5e6q9_k"
      },
      "id": "MO8AG5e6q9_k"
    },
    {
      "cell_type": "markdown",
      "source": [
        "Exchange Rate"
      ],
      "metadata": {
        "id": "djfRtnc6rstB"
      },
      "id": "djfRtnc6rstB"
    },
    {
      "cell_type": "code",
      "source": [
        "plt.plot(train_df['Year'],train_df['Exchange Rate(INR/USD)'])\n",
        "plt.title('Exchange Rate across year')\n",
        "plt.xlabel('Year')\n",
        "plt.ylabel('Exchange Rate')"
      ],
      "metadata": {
        "colab": {
          "base_uri": "https://localhost:8080/",
          "height": 312
        },
        "id": "gzASXC5zqch9",
        "outputId": "d2a52119-6ba0-4f1c-96ea-6470f414d058"
      },
      "id": "gzASXC5zqch9",
      "execution_count": null,
      "outputs": [
        {
          "output_type": "execute_result",
          "data": {
            "text/plain": [
              "Text(0, 0.5, 'Exchange Rate')"
            ]
          },
          "metadata": {},
          "execution_count": 9
        },
        {
          "output_type": "display_data",
          "data": {
            "text/plain": [
              "<Figure size 432x288 with 1 Axes>"
            ],
            "image/png": "[encoded data removed]"
          },
          "metadata": {
            "needs_background": "light"
          }
        }
      ]
    },
    {
      "cell_type": "markdown",
      "source": [
        "1. Exchange rate is showing steady upward trend not just because of Indian Rupee is depreciating but also due to strengthening of Dollar\n",
        "\n",
        "2. In multiple parts of history to promote the export and increase export competitiveness, India has depreciated its currency against Dollar"
      ],
      "metadata": {
        "id": "6xQ7-JRlsMpb"
      },
      "id": "6xQ7-JRlsMpb"
    },
    {
      "cell_type": "markdown",
      "source": [
        "FDI as % of GDP"
      ],
      "metadata": {
        "id": "EDio0MfKsn38"
      },
      "id": "EDio0MfKsn38"
    },
    {
      "cell_type": "code",
      "source": [
        "plt.plot(train_df['Year'],train_df['FDI in % of GDP'])\n",
        "plt.title('FDI in % of GDP across year')\n",
        "plt.xlabel('Year')\n",
        "plt.ylabel('FDI in % of GDP')"
      ],
      "metadata": {
        "colab": {
          "base_uri": "https://localhost:8080/",
          "height": 312
        },
        "id": "N9ctltI0r9sW",
        "outputId": "e8c50b6f-9b06-482d-8c1e-8fb0129eecbc"
      },
      "id": "N9ctltI0r9sW",
      "execution_count": null,
      "outputs": [
        {
          "output_type": "execute_result",
          "data": {
            "text/plain": [
              "Text(0, 0.5, 'FDI in % of GDP')"
            ]
          },
          "metadata": {},
          "execution_count": 10
        },
        {
          "output_type": "display_data",
          "data": {
            "text/plain": [
              "<Figure size 432x288 with 1 Axes>"
            ],
            "image/png": "[encoded data removed]"
          },
          "metadata": {
            "needs_background": "light"
          }
        }
      ]
    },
    {
      "cell_type": "markdown",
      "source": [
        "FDI has steady increase across years.\n",
        "\n",
        "In recent years, FDI inflow is seeing record high numbers"
      ],
      "metadata": {
        "id": "O-pZvH5ltQAE"
      },
      "id": "O-pZvH5ltQAE"
    },
    {
      "cell_type": "markdown",
      "source": [
        "GDP Growth"
      ],
      "metadata": {
        "id": "Hw2bshNDteaz"
      },
      "id": "Hw2bshNDteaz"
    },
    {
      "cell_type": "code",
      "source": [
        "plt.plot(train_df['Year'],train_df['GDP growth'])\n",
        "plt.title('GDP Growth across years')\n",
        "plt.xlabel('Year')\n",
        "plt.ylabel('GDP Growth')"
      ],
      "metadata": {
        "colab": {
          "base_uri": "https://localhost:8080/",
          "height": 312
        },
        "id": "iU6SWgIfstEf",
        "outputId": "3e1621ec-a18c-4e1a-ea16-f093c2e8e7e6"
      },
      "id": "iU6SWgIfstEf",
      "execution_count": null,
      "outputs": [
        {
          "output_type": "execute_result",
          "data": {
            "text/plain": [
              "Text(0, 0.5, 'GDP Growth')"
            ]
          },
          "metadata": {},
          "execution_count": 11
        },
        {
          "output_type": "display_data",
          "data": {
            "text/plain": [
              "<Figure size 432x288 with 1 Axes>"
            ],
            "image/png": "[encoded data removed]"
          },
          "metadata": {
            "needs_background": "light"
          }
        }
      ]
    },
    {
      "cell_type": "markdown",
      "source": [
        "# Regression Model"
      ],
      "metadata": {
        "id": "0eigQCRCwhRt"
      },
      "id": "0eigQCRCwhRt"
    },
    {
      "cell_type": "code",
      "source": [
        "import statsmodels.api as sm"
      ],
      "metadata": {
        "colab": {
          "base_uri": "https://localhost:8080/"
        },
        "id": "J857DZ3AtiCG",
        "outputId": "a419b15b-d42b-48be-ef61-03f63d3871e6"
      },
      "id": "J857DZ3AtiCG",
      "execution_count": null,
      "outputs": [
        {
          "output_type": "stream",
          "name": "stderr",
          "text": [
            "/usr/local/lib/python3.7/dist-packages/statsmodels/tools/_testing.py:19: FutureWarning: pandas.util.testing is deprecated. Use the functions in the public API at pandas.testing instead.\n",
            "  import pandas.util.testing as tm\n"
          ]
        }
      ]
    },
    {
      "cell_type": "code",
      "source": [
        "x=train_df[['TradeBalance','Real Interest Rate']]"
      ],
      "metadata": {
        "id": "ZdjmdFulwsij"
      },
      "id": "ZdjmdFulwsij",
      "execution_count": null,
      "outputs": []
    },
    {
      "cell_type": "code",
      "source": [
        "y=train_df['Exchange Rate(INR/USD)']"
      ],
      "metadata": {
        "id": "4omovvRYxJtW"
      },
      "id": "4omovvRYxJtW",
      "execution_count": null,
      "outputs": []
    },
    {
      "cell_type": "code",
      "source": [
        "xnew = sm.add_constant(x)\n",
        "model = sm.OLS(y,xnew)\n",
        "results = model.fit()\n",
        "np.array(results.params)"
      ],
      "metadata": {
        "colab": {
          "base_uri": "https://localhost:8080/"
        },
        "id": "oQNAmewWwmq4",
        "outputId": "8c3da4d6-e5b0-4f10-e412-ada1b58d981d"
      },
      "id": "oQNAmewWwmq4",
      "execution_count": null,
      "outputs": [
        {
          "output_type": "stream",
          "name": "stderr",
          "text": [
            "/usr/local/lib/python3.7/dist-packages/statsmodels/tsa/tsatools.py:117: FutureWarning: In a future version of pandas all arguments of concat except for the argument 'objs' will be keyword-only\n",
            "  x = pd.concat(x[::order], 1)\n"
          ]
        },
        {
          "output_type": "execute_result",
          "data": {
            "text/plain": [
              "array([ 2.27546126e+01, -2.63712853e-04, -4.70062929e-02])"
            ]
          },
          "metadata": {},
          "execution_count": 15
        }
      ]
    },
    {
      "cell_type": "code",
      "source": [
        "results.summary()"
      ],
      "metadata": {
        "colab": {
          "base_uri": "https://localhost:8080/",
          "height": 508
        },
        "id": "jxig-QLBxYOg",
        "outputId": "0fde8bc2-a64d-4f0f-bbc3-4921eb3a708a"
      },
      "id": "jxig-QLBxYOg",
      "execution_count": null,
      "outputs": [
        {
          "output_type": "execute_result",
          "data": {
            "text/plain": [
              "<class 'statsmodels.iolib.summary.Summary'>\n",
              "\"\"\"\n",
              "                              OLS Regression Results                              \n",
              "==================================================================================\n",
              "Dep. Variable:     Exchange Rate(INR/USD)   R-squared:                       0.598\n",
              "Model:                                OLS   Adj. R-squared:                  0.581\n",
              "Method:                     Least Squares   F-statistic:                     33.53\n",
              "Date:                    Wed, 06 Jul 2022   Prob (F-statistic):           1.21e-09\n",
              "Time:                            16:20:53   Log-Likelihood:                -192.59\n",
              "No. Observations:                      48   AIC:                             391.2\n",
              "Df Residuals:                          45   BIC:                             396.8\n",
              "Df Model:                               2                                         \n",
              "Covariance Type:                nonrobust                                         \n",
              "======================================================================================\n",
              "                         coef    std err          t      P>|t|      [0.025      0.975]\n",
              "--------------------------------------------------------------------------------------\n",
              "const                 22.7546      6.297      3.613      0.001      10.071      35.438\n",
              "TradeBalance          -0.0003   3.68e-05     -7.167      0.000      -0.000      -0.000\n",
              "Real Interest Rate    -0.0470      0.785     -0.060      0.953      -1.628       1.534\n",
              "==============================================================================\n",
              "Omnibus:                       16.480   Durbin-Watson:                   0.205\n",
              "Prob(Omnibus):                  0.000   Jarque-Bera (JB):                4.087\n",
              "Skew:                           0.312   Prob(JB):                        0.130\n",
              "Kurtosis:                       1.714   Cond. No.                     2.44e+05\n",
              "==============================================================================\n",
              "\n",
              "Warnings:\n",
              "[1] Standard Errors assume that the covariance matrix of the errors is correctly specified.\n",
              "[2] The condition number is large, 2.44e+05. This might indicate that there are\n",
              "strong multicollinearity or other numerical problems.\n",
              "\"\"\""
            ],
            "text/html": [
              "<table class=\"simpletable\">\n",
              "<caption>OLS Regression Results</caption>\n",
              "<tr>\n",
              "  <th>Dep. Variable:</th>    <td>Exchange Rate(INR/USD)</td> <th>  R-squared:         </th> <td>   0.598</td>\n",
              "</tr>\n",
              "<tr>\n",
              "  <th>Model:</th>                      <td>OLS</td>          <th>  Adj. R-squared:    </th> <td>   0.581</td>\n",
              "</tr>\n",
              "<tr>\n",
              "  <th>Method:</th>                <td>Least Squares</td>     <th>  F-statistic:       </th> <td>   33.53</td>\n",
              "</tr>\n",
              "<tr>\n",
              "  <th>Date:</th>                <td>Wed, 06 Jul 2022</td>    <th>  Prob (F-statistic):</th> <td>1.21e-09</td>\n",
              "</tr>\n",
              "<tr>\n",
              "  <th>Time:</th>                    <td>16:20:53</td>        <th>  Log-Likelihood:    </th> <td> -192.59</td>\n",
              "</tr>\n",
              "<tr>\n",
              "  <th>No. Observations:</th>         <td>    48</td>         <th>  AIC:               </th> <td>   391.2</td>\n",
              "</tr>\n",
              "<tr>\n",
              "  <th>Df Residuals:</th>             <td>    45</td>         <th>  BIC:               </th> <td>   396.8</td>\n",
              "</tr>\n",
              "<tr>\n",
              "  <th>Df Model:</th>                 <td>     2</td>         <th>                     </th>     <td> </td>   \n",
              "</tr>\n",
              "<tr>\n",
              "  <th>Covariance Type:</th>         <td>nonrobust</td>       <th>                     </th>     <td> </td>   \n",
              "</tr>\n",
              "</table>\n",
              "<table class=\"simpletable\">\n",
              "<tr>\n",
              "           <td></td>             <th>coef</th>     <th>std err</th>      <th>t</th>      <th>P>|t|</th>  <th>[0.025</th>    <th>0.975]</th>  \n",
              "</tr>\n",
              "<tr>\n",
              "  <th>const</th>              <td>   22.7546</td> <td>    6.297</td> <td>    3.613</td> <td> 0.001</td> <td>   10.071</td> <td>   35.438</td>\n",
              "</tr>\n",
              "<tr>\n",
              "  <th>TradeBalance</th>       <td>   -0.0003</td> <td> 3.68e-05</td> <td>   -7.167</td> <td> 0.000</td> <td>   -0.000</td> <td>   -0.000</td>\n",
              "</tr>\n",
              "<tr>\n",
              "  <th>Real Interest Rate</th> <td>   -0.0470</td> <td>    0.785</td> <td>   -0.060</td> <td> 0.953</td> <td>   -1.628</td> <td>    1.534</td>\n",
              "</tr>\n",
              "</table>\n",
              "<table class=\"simpletable\">\n",
              "<tr>\n",
              "  <th>Omnibus:</th>       <td>16.480</td> <th>  Durbin-Watson:     </th> <td>   0.205</td>\n",
              "</tr>\n",
              "<tr>\n",
              "  <th>Prob(Omnibus):</th> <td> 0.000</td> <th>  Jarque-Bera (JB):  </th> <td>   4.087</td>\n",
              "</tr>\n",
              "<tr>\n",
              "  <th>Skew:</th>          <td> 0.312</td> <th>  Prob(JB):          </th> <td>   0.130</td>\n",
              "</tr>\n",
              "<tr>\n",
              "  <th>Kurtosis:</th>      <td> 1.714</td> <th>  Cond. No.          </th> <td>2.44e+05</td>\n",
              "</tr>\n",
              "</table><br/><br/>Warnings:<br/>[1] Standard Errors assume that the covariance matrix of the errors is correctly specified.<br/>[2] The condition number is large, 2.44e+05. This might indicate that there are<br/>strong multicollinearity or other numerical problems."
            ]
          },
          "metadata": {},
          "execution_count": 16
        }
      ]
    },
    {
      "cell_type": "code",
      "source": [
        "x=train_df[['TradeBalance','Real Interest Rate','FDI in % of GDP']]"
      ],
      "metadata": {
        "id": "0MkBNgdgR7l1"
      },
      "id": "0MkBNgdgR7l1",
      "execution_count": null,
      "outputs": []
    },
    {
      "cell_type": "code",
      "source": [
        "y=train_df['Exchange Rate(INR/USD)']"
      ],
      "metadata": {
        "id": "LQJNu9nPSG_F"
      },
      "id": "LQJNu9nPSG_F",
      "execution_count": null,
      "outputs": []
    },
    {
      "cell_type": "code",
      "source": [
        "xnew = sm.add_constant(x)\n",
        "model = sm.OLS(y,xnew)\n",
        "results = model.fit()\n",
        "np.array(results.params)"
      ],
      "metadata": {
        "colab": {
          "base_uri": "https://localhost:8080/"
        },
        "id": "4HOOYAS2SI4d",
        "outputId": "54a969a3-80d6-460b-b4c5-600183c0ef77"
      },
      "id": "4HOOYAS2SI4d",
      "execution_count": null,
      "outputs": [
        {
          "output_type": "stream",
          "name": "stderr",
          "text": [
            "/usr/local/lib/python3.7/dist-packages/statsmodels/tsa/tsatools.py:117: FutureWarning: In a future version of pandas all arguments of concat except for the argument 'objs' will be keyword-only\n",
            "  x = pd.concat(x[::order], 1)\n"
          ]
        },
        {
          "output_type": "execute_result",
          "data": {
            "text/plain": [
              "array([ 1.62733862e+01, -1.29608290e-04,  3.37910450e-01,  1.24093426e+01])"
            ]
          },
          "metadata": {},
          "execution_count": 19
        }
      ]
    },
    {
      "cell_type": "code",
      "source": [
        "results.summary()"
      ],
      "metadata": {
        "colab": {
          "base_uri": "https://localhost:8080/",
          "height": 529
        },
        "id": "Uy0d9C00SI67",
        "outputId": "45bfc57c-1c3f-4ea8-ea3c-5eee6db9876f"
      },
      "id": "Uy0d9C00SI67",
      "execution_count": null,
      "outputs": [
        {
          "output_type": "execute_result",
          "data": {
            "text/plain": [
              "<class 'statsmodels.iolib.summary.Summary'>\n",
              "\"\"\"\n",
              "                              OLS Regression Results                              \n",
              "==================================================================================\n",
              "Dep. Variable:     Exchange Rate(INR/USD)   R-squared:                       0.702\n",
              "Model:                                OLS   Adj. R-squared:                  0.681\n",
              "Method:                     Least Squares   F-statistic:                     34.50\n",
              "Date:                    Wed, 06 Jul 2022   Prob (F-statistic):           1.26e-11\n",
              "Time:                            16:20:59   Log-Likelihood:                -185.45\n",
              "No. Observations:                      48   AIC:                             378.9\n",
              "Df Residuals:                          44   BIC:                             386.4\n",
              "Df Model:                               3                                         \n",
              "Covariance Type:                nonrobust                                         \n",
              "======================================================================================\n",
              "                         coef    std err          t      P>|t|      [0.025      0.975]\n",
              "--------------------------------------------------------------------------------------\n",
              "const                 16.2734      5.734      2.838      0.007       4.716      27.830\n",
              "TradeBalance          -0.0001    4.7e-05     -2.758      0.008      -0.000   -3.49e-05\n",
              "Real Interest Rate     0.3379      0.691      0.489      0.627      -1.055       1.731\n",
              "FDI in % of GDP       12.4093      3.179      3.903      0.000       6.002      18.817\n",
              "==============================================================================\n",
              "Omnibus:                        5.571   Durbin-Watson:                   0.218\n",
              "Prob(Omnibus):                  0.062   Jarque-Bera (JB):                2.307\n",
              "Skew:                          -0.180   Prob(JB):                        0.316\n",
              "Kurtosis:                       1.988   Cond. No.                     2.59e+05\n",
              "==============================================================================\n",
              "\n",
              "Warnings:\n",
              "[1] Standard Errors assume that the covariance matrix of the errors is correctly specified.\n",
              "[2] The condition number is large, 2.59e+05. This might indicate that there are\n",
              "strong multicollinearity or other numerical problems.\n",
              "\"\"\""
            ],
            "text/html": [
              "<table class=\"simpletable\">\n",
              "<caption>OLS Regression Results</caption>\n",
              "<tr>\n",
              "  <th>Dep. Variable:</th>    <td>Exchange Rate(INR/USD)</td> <th>  R-squared:         </th> <td>   0.702</td>\n",
              "</tr>\n",
              "<tr>\n",
              "  <th>Model:</th>                      <td>OLS</td>          <th>  Adj. R-squared:    </th> <td>   0.681</td>\n",
              "</tr>\n",
              "<tr>\n",
              "  <th>Method:</th>                <td>Least Squares</td>     <th>  F-statistic:       </th> <td>   34.50</td>\n",
              "</tr>\n",
              "<tr>\n",
              "  <th>Date:</th>                <td>Wed, 06 Jul 2022</td>    <th>  Prob (F-statistic):</th> <td>1.26e-11</td>\n",
              "</tr>\n",
              "<tr>\n",
              "  <th>Time:</th>                    <td>16:20:59</td>        <th>  Log-Likelihood:    </th> <td> -185.45</td>\n",
              "</tr>\n",
              "<tr>\n",
              "  <th>No. Observations:</th>         <td>    48</td>         <th>  AIC:               </th> <td>   378.9</td>\n",
              "</tr>\n",
              "<tr>\n",
              "  <th>Df Residuals:</th>             <td>    44</td>         <th>  BIC:               </th> <td>   386.4</td>\n",
              "</tr>\n",
              "<tr>\n",
              "  <th>Df Model:</th>                 <td>     3</td>         <th>                     </th>     <td> </td>   \n",
              "</tr>\n",
              "<tr>\n",
              "  <th>Covariance Type:</th>         <td>nonrobust</td>       <th>                     </th>     <td> </td>   \n",
              "</tr>\n",
              "</table>\n",
              "<table class=\"simpletable\">\n",
              "<tr>\n",
              "           <td></td>             <th>coef</th>     <th>std err</th>      <th>t</th>      <th>P>|t|</th>  <th>[0.025</th>    <th>0.975]</th>  \n",
              "</tr>\n",
              "<tr>\n",
              "  <th>const</th>              <td>   16.2734</td> <td>    5.734</td> <td>    2.838</td> <td> 0.007</td> <td>    4.716</td> <td>   27.830</td>\n",
              "</tr>\n",
              "<tr>\n",
              "  <th>TradeBalance</th>       <td>   -0.0001</td> <td>  4.7e-05</td> <td>   -2.758</td> <td> 0.008</td> <td>   -0.000</td> <td>-3.49e-05</td>\n",
              "</tr>\n",
              "<tr>\n",
              "  <th>Real Interest Rate</th> <td>    0.3379</td> <td>    0.691</td> <td>    0.489</td> <td> 0.627</td> <td>   -1.055</td> <td>    1.731</td>\n",
              "</tr>\n",
              "<tr>\n",
              "  <th>FDI in % of GDP</th>    <td>   12.4093</td> <td>    3.179</td> <td>    3.903</td> <td> 0.000</td> <td>    6.002</td> <td>   18.817</td>\n",
              "</tr>\n",
              "</table>\n",
              "<table class=\"simpletable\">\n",
              "<tr>\n",
              "  <th>Omnibus:</th>       <td> 5.571</td> <th>  Durbin-Watson:     </th> <td>   0.218</td>\n",
              "</tr>\n",
              "<tr>\n",
              "  <th>Prob(Omnibus):</th> <td> 0.062</td> <th>  Jarque-Bera (JB):  </th> <td>   2.307</td>\n",
              "</tr>\n",
              "<tr>\n",
              "  <th>Skew:</th>          <td>-0.180</td> <th>  Prob(JB):          </th> <td>   0.316</td>\n",
              "</tr>\n",
              "<tr>\n",
              "  <th>Kurtosis:</th>      <td> 1.988</td> <th>  Cond. No.          </th> <td>2.59e+05</td>\n",
              "</tr>\n",
              "</table><br/><br/>Warnings:<br/>[1] Standard Errors assume that the covariance matrix of the errors is correctly specified.<br/>[2] The condition number is large, 2.59e+05. This might indicate that there are<br/>strong multicollinearity or other numerical problems."
            ]
          },
          "metadata": {},
          "execution_count": 20
        }
      ]
    },
    {
      "cell_type": "code",
      "source": [
        "x=train_df[['TradeBalance','Real Interest Rate','FDI in % of GDP','Inflation']]"
      ],
      "metadata": {
        "id": "C1dyKsCPSWNN"
      },
      "id": "C1dyKsCPSWNN",
      "execution_count": null,
      "outputs": []
    },
    {
      "cell_type": "code",
      "source": [
        "y=train_df['Exchange Rate(INR/USD)']"
      ],
      "metadata": {
        "id": "jkvVO5eLSgrN"
      },
      "id": "jkvVO5eLSgrN",
      "execution_count": null,
      "outputs": []
    },
    {
      "cell_type": "code",
      "source": [
        "xnew = sm.add_constant(x)\n",
        "model = sm.OLS(y,xnew)\n",
        "results = model.fit()\n",
        "np.array(results.params)"
      ],
      "metadata": {
        "colab": {
          "base_uri": "https://localhost:8080/"
        },
        "id": "NW4G6EC-Sg-s",
        "outputId": "6a6954b2-c0c3-4278-c049-a58c4dbd4336"
      },
      "id": "NW4G6EC-Sg-s",
      "execution_count": null,
      "outputs": [
        {
          "output_type": "stream",
          "name": "stderr",
          "text": [
            "/usr/local/lib/python3.7/dist-packages/statsmodels/tsa/tsatools.py:117: FutureWarning: In a future version of pandas all arguments of concat except for the argument 'objs' will be keyword-only\n",
            "  x = pd.concat(x[::order], 1)\n"
          ]
        },
        {
          "output_type": "execute_result",
          "data": {
            "text/plain": [
              "array([ 2.32346594e+01, -1.25666074e-04,  1.29478977e-01,  1.17609844e+01,\n",
              "       -6.25230684e-01])"
            ]
          },
          "metadata": {},
          "execution_count": 23
        }
      ]
    },
    {
      "cell_type": "code",
      "source": [
        "results.summary()"
      ],
      "metadata": {
        "colab": {
          "base_uri": "https://localhost:8080/",
          "height": 550
        },
        "id": "isJUXtGFShB0",
        "outputId": "1f72d574-ee60-4b5e-85e3-e5c6e2ecdce7"
      },
      "id": "isJUXtGFShB0",
      "execution_count": null,
      "outputs": [
        {
          "output_type": "execute_result",
          "data": {
            "text/plain": [
              "<class 'statsmodels.iolib.summary.Summary'>\n",
              "\"\"\"\n",
              "                              OLS Regression Results                              \n",
              "==================================================================================\n",
              "Dep. Variable:     Exchange Rate(INR/USD)   R-squared:                       0.722\n",
              "Model:                                OLS   Adj. R-squared:                  0.696\n",
              "Method:                     Least Squares   F-statistic:                     27.90\n",
              "Date:                    Wed, 06 Jul 2022   Prob (F-statistic):           1.86e-11\n",
              "Time:                            16:21:05   Log-Likelihood:                -183.77\n",
              "No. Observations:                      48   AIC:                             377.5\n",
              "Df Residuals:                          43   BIC:                             386.9\n",
              "Df Model:                               4                                         \n",
              "Covariance Type:                nonrobust                                         \n",
              "======================================================================================\n",
              "                         coef    std err          t      P>|t|      [0.025      0.975]\n",
              "--------------------------------------------------------------------------------------\n",
              "const                 23.2347      6.851      3.391      0.002       9.418      37.052\n",
              "TradeBalance          -0.0001    4.6e-05     -2.734      0.009      -0.000    -3.3e-05\n",
              "Real Interest Rate     0.1295      0.686      0.189      0.851      -1.253       1.512\n",
              "FDI in % of GDP       11.7610      3.127      3.761      0.001       5.454      18.068\n",
              "Inflation             -0.6252      0.354     -1.765      0.085      -1.340       0.089\n",
              "==============================================================================\n",
              "Omnibus:                        5.372   Durbin-Watson:                   0.315\n",
              "Prob(Omnibus):                  0.068   Jarque-Bera (JB):                2.532\n",
              "Skew:                          -0.275   Prob(JB):                        0.282\n",
              "Kurtosis:                       2.018   Cond. No.                     3.15e+05\n",
              "==============================================================================\n",
              "\n",
              "Warnings:\n",
              "[1] Standard Errors assume that the covariance matrix of the errors is correctly specified.\n",
              "[2] The condition number is large, 3.15e+05. This might indicate that there are\n",
              "strong multicollinearity or other numerical problems.\n",
              "\"\"\""
            ],
            "text/html": [
              "<table class=\"simpletable\">\n",
              "<caption>OLS Regression Results</caption>\n",
              "<tr>\n",
              "  <th>Dep. Variable:</th>    <td>Exchange Rate(INR/USD)</td> <th>  R-squared:         </th> <td>   0.722</td>\n",
              "</tr>\n",
              "<tr>\n",
              "  <th>Model:</th>                      <td>OLS</td>          <th>  Adj. R-squared:    </th> <td>   0.696</td>\n",
              "</tr>\n",
              "<tr>\n",
              "  <th>Method:</th>                <td>Least Squares</td>     <th>  F-statistic:       </th> <td>   27.90</td>\n",
              "</tr>\n",
              "<tr>\n",
              "  <th>Date:</th>                <td>Wed, 06 Jul 2022</td>    <th>  Prob (F-statistic):</th> <td>1.86e-11</td>\n",
              "</tr>\n",
              "<tr>\n",
              "  <th>Time:</th>                    <td>16:21:05</td>        <th>  Log-Likelihood:    </th> <td> -183.77</td>\n",
              "</tr>\n",
              "<tr>\n",
              "  <th>No. Observations:</th>         <td>    48</td>         <th>  AIC:               </th> <td>   377.5</td>\n",
              "</tr>\n",
              "<tr>\n",
              "  <th>Df Residuals:</th>             <td>    43</td>         <th>  BIC:               </th> <td>   386.9</td>\n",
              "</tr>\n",
              "<tr>\n",
              "  <th>Df Model:</th>                 <td>     4</td>         <th>                     </th>     <td> </td>   \n",
              "</tr>\n",
              "<tr>\n",
              "  <th>Covariance Type:</th>         <td>nonrobust</td>       <th>                     </th>     <td> </td>   \n",
              "</tr>\n",
              "</table>\n",
              "<table class=\"simpletable\">\n",
              "<tr>\n",
              "           <td></td>             <th>coef</th>     <th>std err</th>      <th>t</th>      <th>P>|t|</th>  <th>[0.025</th>    <th>0.975]</th>  \n",
              "</tr>\n",
              "<tr>\n",
              "  <th>const</th>              <td>   23.2347</td> <td>    6.851</td> <td>    3.391</td> <td> 0.002</td> <td>    9.418</td> <td>   37.052</td>\n",
              "</tr>\n",
              "<tr>\n",
              "  <th>TradeBalance</th>       <td>   -0.0001</td> <td>  4.6e-05</td> <td>   -2.734</td> <td> 0.009</td> <td>   -0.000</td> <td> -3.3e-05</td>\n",
              "</tr>\n",
              "<tr>\n",
              "  <th>Real Interest Rate</th> <td>    0.1295</td> <td>    0.686</td> <td>    0.189</td> <td> 0.851</td> <td>   -1.253</td> <td>    1.512</td>\n",
              "</tr>\n",
              "<tr>\n",
              "  <th>FDI in % of GDP</th>    <td>   11.7610</td> <td>    3.127</td> <td>    3.761</td> <td> 0.001</td> <td>    5.454</td> <td>   18.068</td>\n",
              "</tr>\n",
              "<tr>\n",
              "  <th>Inflation</th>          <td>   -0.6252</td> <td>    0.354</td> <td>   -1.765</td> <td> 0.085</td> <td>   -1.340</td> <td>    0.089</td>\n",
              "</tr>\n",
              "</table>\n",
              "<table class=\"simpletable\">\n",
              "<tr>\n",
              "  <th>Omnibus:</th>       <td> 5.372</td> <th>  Durbin-Watson:     </th> <td>   0.315</td>\n",
              "</tr>\n",
              "<tr>\n",
              "  <th>Prob(Omnibus):</th> <td> 0.068</td> <th>  Jarque-Bera (JB):  </th> <td>   2.532</td>\n",
              "</tr>\n",
              "<tr>\n",
              "  <th>Skew:</th>          <td>-0.275</td> <th>  Prob(JB):          </th> <td>   0.282</td>\n",
              "</tr>\n",
              "<tr>\n",
              "  <th>Kurtosis:</th>      <td> 2.018</td> <th>  Cond. No.          </th> <td>3.15e+05</td>\n",
              "</tr>\n",
              "</table><br/><br/>Warnings:<br/>[1] Standard Errors assume that the covariance matrix of the errors is correctly specified.<br/>[2] The condition number is large, 3.15e+05. This might indicate that there are<br/>strong multicollinearity or other numerical problems."
            ]
          },
          "metadata": {},
          "execution_count": 24
        }
      ]
    },
    {
      "cell_type": "code",
      "source": [
        "x=train_df[['TradeBalance','Real Interest Rate','FDI in % of GDP','Inflation','GDP growth']]"
      ],
      "metadata": {
        "id": "IJA2UQQUSohv"
      },
      "id": "IJA2UQQUSohv",
      "execution_count": null,
      "outputs": []
    },
    {
      "cell_type": "code",
      "source": [
        "y=train_df['Exchange Rate(INR/USD)']"
      ],
      "metadata": {
        "id": "8vED1wjmS7_F"
      },
      "id": "8vED1wjmS7_F",
      "execution_count": null,
      "outputs": []
    },
    {
      "cell_type": "code",
      "source": [
        "xnew = sm.add_constant(x)\n",
        "model = sm.OLS(y,xnew)\n",
        "results = model.fit()\n",
        "np.array(results.params)"
      ],
      "metadata": {
        "colab": {
          "base_uri": "https://localhost:8080/"
        },
        "id": "QtW7iZxYS-00",
        "outputId": "5aa557f3-3aa0-423e-e031-b1748f0e9df9"
      },
      "id": "QtW7iZxYS-00",
      "execution_count": null,
      "outputs": [
        {
          "output_type": "stream",
          "name": "stderr",
          "text": [
            "/usr/local/lib/python3.7/dist-packages/statsmodels/tsa/tsatools.py:117: FutureWarning: In a future version of pandas all arguments of concat except for the argument 'objs' will be keyword-only\n",
            "  x = pd.concat(x[::order], 1)\n"
          ]
        },
        {
          "output_type": "execute_result",
          "data": {
            "text/plain": [
              "array([ 2.25607114e+01, -1.23185990e-04,  7.73989884e-02,  1.17977403e+01,\n",
              "       -6.21727637e-01,  1.95892183e-01])"
            ]
          },
          "metadata": {},
          "execution_count": 27
        }
      ]
    },
    {
      "cell_type": "code",
      "source": [
        "results.summary()"
      ],
      "metadata": {
        "colab": {
          "base_uri": "https://localhost:8080/",
          "height": 572
        },
        "id": "LV9nzDjQTBWV",
        "outputId": "1c7b4d27-28d3-4d52-d581-35022ef2737a"
      },
      "id": "LV9nzDjQTBWV",
      "execution_count": null,
      "outputs": [
        {
          "output_type": "execute_result",
          "data": {
            "text/plain": [
              "<class 'statsmodels.iolib.summary.Summary'>\n",
              "\"\"\"\n",
              "                              OLS Regression Results                              \n",
              "==================================================================================\n",
              "Dep. Variable:     Exchange Rate(INR/USD)   R-squared:                       0.723\n",
              "Model:                                OLS   Adj. R-squared:                  0.690\n",
              "Method:                     Least Squares   F-statistic:                     21.89\n",
              "Date:                    Wed, 06 Jul 2022   Prob (F-statistic):           9.99e-11\n",
              "Time:                            16:21:10   Log-Likelihood:                -183.70\n",
              "No. Observations:                      48   AIC:                             379.4\n",
              "Df Residuals:                          42   BIC:                             390.6\n",
              "Df Model:                               5                                         \n",
              "Covariance Type:                nonrobust                                         \n",
              "======================================================================================\n",
              "                         coef    std err          t      P>|t|      [0.025      0.975]\n",
              "--------------------------------------------------------------------------------------\n",
              "const                 22.5607      7.181      3.142      0.003       8.069      37.052\n",
              "TradeBalance          -0.0001    4.7e-05     -2.623      0.012      -0.000   -2.84e-05\n",
              "Real Interest Rate     0.0774      0.708      0.109      0.913      -1.352       1.507\n",
              "FDI in % of GDP       11.7977      3.161      3.732      0.001       5.418      18.177\n",
              "Inflation             -0.6217      0.358     -1.736      0.090      -1.344       0.101\n",
              "GDP growth             0.1959      0.555      0.353      0.726      -0.925       1.317\n",
              "==============================================================================\n",
              "Omnibus:                        6.117   Durbin-Watson:                   0.309\n",
              "Prob(Omnibus):                  0.047   Jarque-Bera (JB):                2.588\n",
              "Skew:                          -0.247   Prob(JB):                        0.274\n",
              "Kurtosis:                       1.976   Cond. No.                     3.26e+05\n",
              "==============================================================================\n",
              "\n",
              "Warnings:\n",
              "[1] Standard Errors assume that the covariance matrix of the errors is correctly specified.\n",
              "[2] The condition number is large, 3.26e+05. This might indicate that there are\n",
              "strong multicollinearity or other numerical problems.\n",
              "\"\"\""
            ],
            "text/html": [
              "<table class=\"simpletable\">\n",
              "<caption>OLS Regression Results</caption>\n",
              "<tr>\n",
              "  <th>Dep. Variable:</th>    <td>Exchange Rate(INR/USD)</td> <th>  R-squared:         </th> <td>   0.723</td>\n",
              "</tr>\n",
              "<tr>\n",
              "  <th>Model:</th>                      <td>OLS</td>          <th>  Adj. R-squared:    </th> <td>   0.690</td>\n",
              "</tr>\n",
              "<tr>\n",
              "  <th>Method:</th>                <td>Least Squares</td>     <th>  F-statistic:       </th> <td>   21.89</td>\n",
              "</tr>\n",
              "<tr>\n",
              "  <th>Date:</th>                <td>Wed, 06 Jul 2022</td>    <th>  Prob (F-statistic):</th> <td>9.99e-11</td>\n",
              "</tr>\n",
              "<tr>\n",
              "  <th>Time:</th>                    <td>16:21:10</td>        <th>  Log-Likelihood:    </th> <td> -183.70</td>\n",
              "</tr>\n",
              "<tr>\n",
              "  <th>No. Observations:</th>         <td>    48</td>         <th>  AIC:               </th> <td>   379.4</td>\n",
              "</tr>\n",
              "<tr>\n",
              "  <th>Df Residuals:</th>             <td>    42</td>         <th>  BIC:               </th> <td>   390.6</td>\n",
              "</tr>\n",
              "<tr>\n",
              "  <th>Df Model:</th>                 <td>     5</td>         <th>                     </th>     <td> </td>   \n",
              "</tr>\n",
              "<tr>\n",
              "  <th>Covariance Type:</th>         <td>nonrobust</td>       <th>                     </th>     <td> </td>   \n",
              "</tr>\n",
              "</table>\n",
              "<table class=\"simpletable\">\n",
              "<tr>\n",
              "           <td></td>             <th>coef</th>     <th>std err</th>      <th>t</th>      <th>P>|t|</th>  <th>[0.025</th>    <th>0.975]</th>  \n",
              "</tr>\n",
              "<tr>\n",
              "  <th>const</th>              <td>   22.5607</td> <td>    7.181</td> <td>    3.142</td> <td> 0.003</td> <td>    8.069</td> <td>   37.052</td>\n",
              "</tr>\n",
              "<tr>\n",
              "  <th>TradeBalance</th>       <td>   -0.0001</td> <td>  4.7e-05</td> <td>   -2.623</td> <td> 0.012</td> <td>   -0.000</td> <td>-2.84e-05</td>\n",
              "</tr>\n",
              "<tr>\n",
              "  <th>Real Interest Rate</th> <td>    0.0774</td> <td>    0.708</td> <td>    0.109</td> <td> 0.913</td> <td>   -1.352</td> <td>    1.507</td>\n",
              "</tr>\n",
              "<tr>\n",
              "  <th>FDI in % of GDP</th>    <td>   11.7977</td> <td>    3.161</td> <td>    3.732</td> <td> 0.001</td> <td>    5.418</td> <td>   18.177</td>\n",
              "</tr>\n",
              "<tr>\n",
              "  <th>Inflation</th>          <td>   -0.6217</td> <td>    0.358</td> <td>   -1.736</td> <td> 0.090</td> <td>   -1.344</td> <td>    0.101</td>\n",
              "</tr>\n",
              "<tr>\n",
              "  <th>GDP growth</th>         <td>    0.1959</td> <td>    0.555</td> <td>    0.353</td> <td> 0.726</td> <td>   -0.925</td> <td>    1.317</td>\n",
              "</tr>\n",
              "</table>\n",
              "<table class=\"simpletable\">\n",
              "<tr>\n",
              "  <th>Omnibus:</th>       <td> 6.117</td> <th>  Durbin-Watson:     </th> <td>   0.309</td>\n",
              "</tr>\n",
              "<tr>\n",
              "  <th>Prob(Omnibus):</th> <td> 0.047</td> <th>  Jarque-Bera (JB):  </th> <td>   2.588</td>\n",
              "</tr>\n",
              "<tr>\n",
              "  <th>Skew:</th>          <td>-0.247</td> <th>  Prob(JB):          </th> <td>   0.274</td>\n",
              "</tr>\n",
              "<tr>\n",
              "  <th>Kurtosis:</th>      <td> 1.976</td> <th>  Cond. No.          </th> <td>3.26e+05</td>\n",
              "</tr>\n",
              "</table><br/><br/>Warnings:<br/>[1] Standard Errors assume that the covariance matrix of the errors is correctly specified.<br/>[2] The condition number is large, 3.26e+05. This might indicate that there are<br/>strong multicollinearity or other numerical problems."
            ]
          },
          "metadata": {},
          "execution_count": 28
        }
      ]
    },
    {
      "cell_type": "markdown",
      "source": [
        "Finding VIF"
      ],
      "metadata": {
        "id": "gQ7g5vuFzniC"
      },
      "id": "gQ7g5vuFzniC"
    },
    {
      "cell_type": "code",
      "source": [
        "from statsmodels.stats.outliers_influence import variance_inflation_factor"
      ],
      "metadata": {
        "id": "p0NGC4RVxfAZ"
      },
      "id": "p0NGC4RVxfAZ",
      "execution_count": null,
      "outputs": []
    },
    {
      "cell_type": "code",
      "source": [
        "vif_data = pd.DataFrame()\n",
        "vif_data[\"feature\"] = x.columns\n",
        "\n",
        "# calculating VIF for each feature\n",
        "vif_data[\"VIF\"] = [variance_inflation_factor(x.values, i)\n",
        "                          for i in range(len(x.columns))]"
      ],
      "metadata": {
        "id": "6OXMaBbjznAZ"
      },
      "id": "6OXMaBbjznAZ",
      "execution_count": null,
      "outputs": []
    },
    {
      "cell_type": "code",
      "source": [
        "vif_data"
      ],
      "metadata": {
        "colab": {
          "base_uri": "https://localhost:8080/",
          "height": 206
        },
        "id": "tW81Gm6Qzwb4",
        "outputId": "ee7621a0-1baa-46f6-dfe3-cc61163ebe09"
      },
      "id": "tW81Gm6Qzwb4",
      "execution_count": null,
      "outputs": [
        {
          "output_type": "execute_result",
          "data": {
            "text/plain": [
              "              feature       VIF\n",
              "0        TradeBalance  4.329031\n",
              "1  Real Interest Rate  3.867425\n",
              "2     FDI in % of GDP  4.580814\n",
              "3           Inflation  2.575794\n",
              "4          GDP growth  3.842033"
            ],
            "text/html": [
              "\n",
              "  <div id=\"df-e0bb32a8-64b0-4272-ab6f-50b9dfeb28ed\">\n",
              "    <div class=\"colab-df-container\">\n",
              "      <div>\n",
              "<style scoped>\n",
              "    .dataframe tbody tr th:only-of-type {\n",
              "        vertical-align: middle;\n",
              "    }\n",
              "\n",
              "    .dataframe tbody tr th {\n",
              "        vertical-align: top;\n",
              "    }\n",
              "\n",
              "    .dataframe thead th {\n",
              "        text-align: right;\n",
              "    }\n",
              "</style>\n",
              "<table border=\"1\" class=\"dataframe\">\n",
              "  <thead>\n",
              "    <tr style=\"text-align: right;\">\n",
              "      <th></th>\n",
              "      <th>feature</th>\n",
              "      <th>VIF</th>\n",
              "    </tr>\n",
              "  </thead>\n",
              "  <tbody>\n",
              "    <tr>\n",
              "      <th>0</th>\n",
              "      <td>TradeBalance</td>\n",
              "      <td>4.329031</td>\n",
              "    </tr>\n",
              "    <tr>\n",
              "      <th>1</th>\n",
              "      <td>Real Interest Rate</td>\n",
              "      <td>3.867425</td>\n",
              "    </tr>\n",
              "    <tr>\n",
              "      <th>2</th>\n",
              "      <td>FDI in % of GDP</td>\n",
              "      <td>4.580814</td>\n",
              "    </tr>\n",
              "    <tr>\n",
              "      <th>3</th>\n",
              "      <td>Inflation</td>\n",
              "      <td>2.575794</td>\n",
              "    </tr>\n",
              "    <tr>\n",
              "      <th>4</th>\n",
              "      <td>GDP growth</td>\n",
              "      <td>3.842033</td>\n",
              "    </tr>\n",
              "  </tbody>\n",
              "</table>\n",
              "</div>\n",
              "      <button class=\"colab-df-convert\" onclick=\"convertToInteractive('df-e0bb32a8-64b0-4272-ab6f-50b9dfeb28ed')\"\n",
              "              title=\"Convert this dataframe to an interactive table.\"\n",
              "              style=\"display:none;\">\n",
              "        \n",
              "  <svg xmlns=\"http://www.w3.org/2000/svg\" height=\"24px\"viewBox=\"0 0 24 24\"\n",
              "       width=\"24px\">\n",
              "    <path d=\"M0 0h24v24H0V0z\" fill=\"none\"/>\n",
              "    <path d=\"M18.56 5.44l.94 2.06.94-2.06 2.06-.94-2.06-.94-.94-2.06-.94 2.06-2.06.94zm-11 1L8.5 8.5l.94-2.06 2.06-.94-2.06-.94L8.5 2.5l-.94 2.06-2.06.94zm10 10l.94 2.06.94-2.06 2.06-.94-2.06-.94-.94-2.06-.94 2.06-2.06.94z\"/><path d=\"M17.41 7.96l-1.37-1.37c-.4-.4-.92-.59-1.43-.59-.52 0-1.04.2-1.43.59L10.3 9.45l-7.72 7.72c-.78.78-.78 2.05 0 2.83L4 21.41c.39.39.9.59 1.41.59.51 0 1.02-.2 1.41-.59l7.78-7.78 2.81-2.81c.8-.78.8-2.07 0-2.86zM5.41 20L4 18.59l7.72-7.72 1.47 1.35L5.41 20z\"/>\n",
              "  </svg>\n",
              "      </button>\n",
              "      \n",
              "  <style>\n",
              "    .colab-df-container {\n",
              "      display:flex;\n",
              "      flex-wrap:wrap;\n",
              "      gap: 12px;\n",
              "    }\n",
              "\n",
              "    .colab-df-convert {\n",
              "      background-color: #E8F0FE;\n",
              "      border: none;\n",
              "      border-radius: 50%;\n",
              "      cursor: pointer;\n",
              "      display: none;\n",
              "      fill: #1967D2;\n",
              "      height: 32px;\n",
              "      padding: 0 0 0 0;\n",
              "      width: 32px;\n",
              "    }\n",
              "\n",
              "    .colab-df-convert:hover {\n",
              "      background-color: #E2EBFA;\n",
              "      box-shadow: 0px 1px 2px rgba(60, 64, 67, 0.3), 0px 1px 3px 1px rgba(60, 64, 67, 0.15);\n",
              "      fill: #174EA6;\n",
              "    }\n",
              "\n",
              "    [theme=dark] .colab-df-convert {\n",
              "      background-color: #3B4455;\n",
              "      fill: #D2E3FC;\n",
              "    }\n",
              "\n",
              "    [theme=dark] .colab-df-convert:hover {\n",
              "      background-color: #434B5C;\n",
              "      box-shadow: 0px 1px 3px 1px rgba(0, 0, 0, 0.15);\n",
              "      filter: drop-shadow(0px 1px 2px rgba(0, 0, 0, 0.3));\n",
              "      fill: #FFFFFF;\n",
              "    }\n",
              "  </style>\n",
              "\n",
              "      <script>\n",
              "        const buttonEl =\n",
              "          document.querySelector('#df-e0bb32a8-64b0-4272-ab6f-50b9dfeb28ed button.colab-df-convert');\n",
              "        buttonEl.style.display =\n",
              "          google.colab.kernel.accessAllowed ? 'block' : 'none';\n",
              "\n",
              "        async function convertToInteractive(key) {\n",
              "          const element = document.querySelector('#df-e0bb32a8-64b0-4272-ab6f-50b9dfeb28ed');\n",
              "          const dataTable =\n",
              "            await google.colab.kernel.invokeFunction('convertToInteractive',\n",
              "                                                     [key], {});\n",
              "          if (!dataTable) return;\n",
              "\n",
              "          const docLinkHtml = 'Like what you see? Visit the ' +\n",
              "            '<a target=\"_blank\" href=https://colab.research.google.com/notebooks/data_table.ipynb>data table notebook</a>'\n",
              "            + ' to learn more about interactive tables.';\n",
              "          element.innerHTML = '';\n",
              "          dataTable['output_type'] = 'display_data';\n",
              "          await google.colab.output.renderOutput(dataTable, element);\n",
              "          const docLink = document.createElement('div');\n",
              "          docLink.innerHTML = docLinkHtml;\n",
              "          element.appendChild(docLink);\n",
              "        }\n",
              "      </script>\n",
              "    </div>\n",
              "  </div>\n",
              "  "
            ]
          },
          "metadata": {},
          "execution_count": 31
        }
      ]
    },
    {
      "cell_type": "markdown",
      "source": [
        "VIF is below 10 so no multicollinearity"
      ],
      "metadata": {
        "id": "S_V_BYYvz54O"
      },
      "id": "S_V_BYYvz54O"
    },
    {
      "cell_type": "markdown",
      "source": [
        "# Evaluation"
      ],
      "metadata": {
        "id": "9Z0OfSzv2Ugm"
      },
      "id": "9Z0OfSzv2Ugm"
    },
    {
      "cell_type": "code",
      "source": [
        "y_pred=22.7546-0.0003*train_df['TradeBalance']-0.0470*train_df['Real Interest Rate']"
      ],
      "metadata": {
        "id": "G7eneT_W1GjP"
      },
      "id": "G7eneT_W1GjP",
      "execution_count": null,
      "outputs": []
    },
    {
      "cell_type": "code",
      "source": [
        "from sklearn.metrics import mean_squared_error\n",
        "from math import sqrt\n",
        "\n",
        "rms = sqrt(mean_squared_error(y, y_pred))"
      ],
      "metadata": {
        "id": "jAmGsPil1G0o"
      },
      "id": "jAmGsPil1G0o",
      "execution_count": null,
      "outputs": []
    },
    {
      "cell_type": "markdown",
      "source": [
        "RMSE value"
      ],
      "metadata": {
        "id": "n-PSVxRw2YVW"
      },
      "id": "n-PSVxRw2YVW"
    },
    {
      "cell_type": "code",
      "source": [
        "rms"
      ],
      "metadata": {
        "colab": {
          "base_uri": "https://localhost:8080/"
        },
        "id": "fnXc9t_K2RXp",
        "outputId": "472ed3a7-8e92-4a84-dd1c-3df10744bd7d"
      },
      "id": "fnXc9t_K2RXp",
      "execution_count": null,
      "outputs": [
        {
          "output_type": "execute_result",
          "data": {
            "text/plain": [
              "13.661474573364085"
            ]
          },
          "metadata": {},
          "execution_count": 34
        }
      ]
    },
    {
      "cell_type": "code",
      "source": [],
      "metadata": {
        "id": "go6e2lW9UWIl"
      },
      "id": "go6e2lW9UWIl",
      "execution_count": null,
      "outputs": []
    }
  ],
  "metadata": {
    "kernelspec": {
      "display_name": "Python 3 (ipykernel)",
      "language": "python",
      "name": "python3"
    },
    "language_info": {
      "codemirror_mode": {
        "name": "ipython",
        "version": 3
      },
      "file_extension": ".py",
      "mimetype": "text/x-python",
      "name": "python",
      "nbconvert_exporter": "python",
      "pygments_lexer": "ipython3",
      "version": "3.9.12"
    },
    "colab": {
      "provenance": [],
      "include_colab_link": true
    }
  },
  "nbformat": 4,
  "nbformat_minor": 5
}