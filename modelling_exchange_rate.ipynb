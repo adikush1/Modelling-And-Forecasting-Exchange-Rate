{
  "cells": [
    {
      "cell_type": "markdown",
      "metadata": {
        "id": "view-in-github",
        "colab_type": "text"
      },
      "source": [
        "<a href=\"https://colab.research.google.com/github/adikush1/Modelling-And-Forecasting-Exchange-Rate/blob/main/modelling_exchange_rate.ipynb\" target=\"_parent\"><img src=\"https://colab.research.google.com/assets/colab-badge.svg\" alt=\"Open In Colab\"/></a>"
      ]
    },
    {
      "cell_type": "code",
      "source": [],
      "metadata": {
        "id": "dGsMiB7_53jm"
      },
      "id": "dGsMiB7_53jm",
      "execution_count": null,
      "outputs": []
    },
    {
      "cell_type": "code",
      "source": [
        "from google.colab import drive\n",
        "drive.mount('/content/drive')"
      ],
      "metadata": {
        "colab": {
          "base_uri": "https://localhost:8080/"
        },
        "id": "aivAkpCf_Lwb",
        "outputId": "4a532a13-f256-43d0-bd7b-572eb03590d2"
      },
      "id": "aivAkpCf_Lwb",
      "execution_count": 1,
      "outputs": [
        {
          "output_type": "stream",
          "name": "stdout",
          "text": [
            "Mounted at /content/drive\n"
          ]
        }
      ]
    },
    {
      "cell_type": "code",
      "execution_count": null,
      "id": "6eabb68e",
      "metadata": {
        "id": "6eabb68e"
      },
      "outputs": [],
      "source": [
        "import pandas as pd\n",
        "import numpy as np\n",
        "import matplotlib.pyplot as plt\n",
        "import seaborn as sn\n",
        "%matplotlib inline"
      ]
    },
    {
      "cell_type": "code",
      "execution_count": null,
      "id": "76c89b4a",
      "metadata": {
        "colab": {
          "base_uri": "https://localhost:8080/",
          "height": 1000
        },
        "id": "76c89b4a",
        "outputId": "f340229f-2a52-4e9c-9546-b6a9526c6ceb"
      },
      "outputs": [
        {
          "output_type": "execute_result",
          "data": {
            "text/plain": [
              "    Unnamed: 0  Year  FDI in % of GDP  GDP growth TradeBalance  Inflation  \\\n",
              "0            0  1973         0.044331    3.295521       -554.6  16.940816   \n",
              "1            1  1974         0.057241    1.185336    -1,498.70  28.598734   \n",
              "2            2  1975        -0.010486    9.149912    -1,415.90   5.748430   \n",
              "3            3  1976        -0.007503    1.663104         75.7  -7.633948   \n",
              "4            4  1977        -0.029682    7.254765       -712.5   8.307470   \n",
              "5            5  1978         0.013175    5.712532    -1,318.30   2.523049   \n",
              "6            6  1979         0.031747   -5.238183    -3,364.20   6.275683   \n",
              "7            7  1980         0.042485    6.735822    -7,380.50  11.346073   \n",
              "8            8  1981         0.047506    6.006204    -6,468.20  13.112547   \n",
              "9            9  1982         0.035912    3.475733    -5,677.40   7.890743   \n",
              "10          10  1983         0.002584    7.288893    -5,860.70  11.868081   \n",
              "11          11  1984         0.009069    3.820738    -4,533.20   8.318907   \n",
              "12          12  1985         0.045628    5.254299    -7,159.30   5.556424   \n",
              "13          13  1986         0.047284    4.776564    -5,981.20   8.729721   \n",
              "14          14  1987         0.076091    3.965356    -5,065.50   8.801126   \n",
              "15          15  1988         0.030766    9.627783    -5,527.60   9.383472   \n",
              "16          16  1989         0.085157    5.947343    -4,606.60   7.074280   \n",
              "17          17  1990         0.073740    5.533455    -5,316.20   8.971233   \n",
              "18          18  1991         0.027226    1.056831    -1,552.50  13.870246   \n",
              "19          19  1992         0.095942    5.482396    -3,146.90  11.787817   \n",
              "20          20  1993         0.197056    4.750776    -1,091.90   6.326890   \n",
              "21          21  1994         0.297386    6.658924    -2,324.70  10.247936   \n",
              "22          22  1995         0.594986    7.574492    -4,886.70  10.224886   \n",
              "23          23  1996         0.617479    7.549522    -5,665.90   8.977152   \n",
              "24          24  1997         0.860209    4.049821    -6,484.10   7.164252   \n",
              "25          25  1998         0.625286    6.184416    -9,159.50  13.230839   \n",
              "26          26  1999         0.472645    8.845756   -13,021.10   4.669820   \n",
              "27          27  2000         0.765213    3.840991    -5,897.20   4.009436   \n",
              "28          28  2001         1.056378    4.823966    -7,586.90   3.779293   \n",
              "29          29  2002         1.011572    3.803975    -8,690.10   4.297152   \n",
              "30          30  2003         0.605889    7.860381   -14,316.40   3.805859   \n",
              "31          31  2004         0.765601    7.922937   -27,970.00   3.767252   \n",
              "32          32  2005         0.886101    7.923431   -46,068.40   4.246344   \n",
              "33          33  2006         2.130168    8.060733   -58,805.00   5.796523   \n",
              "34          34  2007         2.073396    7.660815   -86,803.20   6.372881   \n",
              "35          35  2008         3.620522    3.086698  -116,219.60   8.349267   \n",
              "36          36  2009         2.651593    7.861889  -109,279.20  10.882353   \n",
              "37          37  2010         1.635034    8.497585  -118,618.60  11.989390   \n",
              "38          38  2011         2.002066    5.241315  -183,421.00   8.911793   \n",
              "39          39  2012         1.312934    5.456389  -190,053.80   9.478997   \n",
              "40          40  2013         1.516276    6.386106  -133,954.20  10.017878   \n",
              "41          41  2014         1.695659    7.410228  -137,472.00   6.665657   \n",
              "42          42  2015         2.092116    7.996254  -118,227.90   4.906973   \n",
              "43          43  2016         1.937363    8.256306  -108,546.30   4.948216   \n",
              "44          44  2017         1.507317    6.795383  -162,066.50   3.328173   \n",
              "45          45  2018         1.558215    6.532989  -184,139.10   3.938826   \n",
              "46          46  2019         1.787382    4.041554  -160,990.40   3.729506   \n",
              "47          47  2020         2.412665   -7.251755  -102,010.00   6.623437   \n",
              "\n",
              "    Exchange Rate(INR/USD)  Real Interest Rate  \n",
              "0                   8.1100           10.774631  \n",
              "1                   8.0952           10.774631  \n",
              "2                   8.9827           10.774631  \n",
              "3                   8.8535           10.774631  \n",
              "4                   8.5371           10.774631  \n",
              "5                   8.2160           10.774631  \n",
              "6                   8.0995           -1.061146  \n",
              "7                   7.9314            4.476508  \n",
              "8                   9.1305            5.118237  \n",
              "9                   9.6926            7.774707  \n",
              "10                 10.4895            7.320987  \n",
              "11                 12.2925            7.947100  \n",
              "12                 12.1524            8.681674  \n",
              "13                 13.1486            9.093224  \n",
              "14                 12.9345            6.560180  \n",
              "15                 15.0190            7.638633  \n",
              "16                 16.9320            7.435843  \n",
              "17                 18.1272            5.269527  \n",
              "18                 25.8180            3.624717  \n",
              "19                 28.9786            9.132749  \n",
              "20                 31.4400            5.814777  \n",
              "21                 31.3894            4.337110  \n",
              "22                 34.9663            5.864178  \n",
              "23                 35.8815            7.792994  \n",
              "24                 39.4000            6.909579  \n",
              "25                 42.5909            5.121276  \n",
              "26                 43.5239            9.191247  \n",
              "27                 46.7845            8.342611  \n",
              "28                 47.9345            8.591449  \n",
              "29                 48.1495            7.907177  \n",
              "30                 45.5741            7.307881  \n",
              "31                 43.8470            4.910128  \n",
              "32                 45.5633            4.855145  \n",
              "33                 44.4835            2.570607  \n",
              "34                 39.3750            5.681844  \n",
              "35                 48.5132            3.771756  \n",
              "36                 46.5273            4.808592  \n",
              "37                 45.1000           -1.983859  \n",
              "38                 52.3824            1.317980  \n",
              "39                 54.6470            2.473522  \n",
              "40                 61.8110            3.865993  \n",
              "41                 62.7071            6.695176  \n",
              "42                 66.5023            7.556488  \n",
              "43                 67.8052            6.232711  \n",
              "44                 64.2445            5.327609  \n",
              "45                 70.8331            5.361666  \n",
              "46                 71.1567            6.910293  \n",
              "47                 73.6195            3.360843  "
            ],
            "text/html": [
              "\n",
              "  <div id=\"df-6e5f22cc-e3af-4b96-8a42-834890977036\">\n",
              "    <div class=\"colab-df-container\">\n",
              "      <div>\n",
              "<style scoped>\n",
              "    .dataframe tbody tr th:only-of-type {\n",
              "        vertical-align: middle;\n",
              "    }\n",
              "\n",
              "    .dataframe tbody tr th {\n",
              "        vertical-align: top;\n",
              "    }\n",
              "\n",
              "    .dataframe thead th {\n",
              "        text-align: right;\n",
              "    }\n",
              "</style>\n",
              "<table border=\"1\" class=\"dataframe\">\n",
              "  <thead>\n",
              "    <tr style=\"text-align: right;\">\n",
              "      <th></th>\n",
              "      <th>Unnamed: 0</th>\n",
              "      <th>Year</th>\n",
              "      <th>FDI in % of GDP</th>\n",
              "      <th>GDP growth</th>\n",
              "      <th>TradeBalance</th>\n",
              "      <th>Inflation</th>\n",
              "      <th>Exchange Rate(INR/USD)</th>\n",
              "      <th>Real Interest Rate</th>\n",
              "    </tr>\n",
              "  </thead>\n",
              "  <tbody>\n",
              "    <tr>\n",
              "      <th>0</th>\n",
              "      <td>0</td>\n",
              "      <td>1973</td>\n",
              "      <td>0.044331</td>\n",
              "      <td>3.295521</td>\n",
              "      <td>-554.6</td>\n",
              "      <td>16.940816</td>\n",
              "      <td>8.1100</td>\n",
              "      <td>10.774631</td>\n",
              "    </tr>\n",
              "    <tr>\n",
              "      <th>1</th>\n",
              "      <td>1</td>\n",
              "      <td>1974</td>\n",
              "      <td>0.057241</td>\n",
              "      <td>1.185336</td>\n",
              "      <td>-1,498.70</td>\n",
              "      <td>28.598734</td>\n",
              "      <td>8.0952</td>\n",
              "      <td>10.774631</td>\n",
              "    </tr>\n",
              "    <tr>\n",
              "      <th>2</th>\n",
              "      <td>2</td>\n",
              "      <td>1975</td>\n",
              "      <td>-0.010486</td>\n",
              "      <td>9.149912</td>\n",
              "      <td>-1,415.90</td>\n",
              "      <td>5.748430</td>\n",
              "      <td>8.9827</td>\n",
              "      <td>10.774631</td>\n",
              "    </tr>\n",
              "    <tr>\n",
              "      <th>3</th>\n",
              "      <td>3</td>\n",
              "      <td>1976</td>\n",
              "      <td>-0.007503</td>\n",
              "      <td>1.663104</td>\n",
              "      <td>75.7</td>\n",
              "      <td>-7.633948</td>\n",
              "      <td>8.8535</td>\n",
              "      <td>10.774631</td>\n",
              "    </tr>\n",
              "    <tr>\n",
              "      <th>4</th>\n",
              "      <td>4</td>\n",
              "      <td>1977</td>\n",
              "      <td>-0.029682</td>\n",
              "      <td>7.254765</td>\n",
              "      <td>-712.5</td>\n",
              "      <td>8.307470</td>\n",
              "      <td>8.5371</td>\n",
              "      <td>10.774631</td>\n",
              "    </tr>\n",
              "    <tr>\n",
              "      <th>5</th>\n",
              "      <td>5</td>\n",
              "      <td>1978</td>\n",
              "      <td>0.013175</td>\n",
              "      <td>5.712532</td>\n",
              "      <td>-1,318.30</td>\n",
              "      <td>2.523049</td>\n",
              "      <td>8.2160</td>\n",
              "      <td>10.774631</td>\n",
              "    </tr>\n",
              "    <tr>\n",
              "      <th>6</th>\n",
              "      <td>6</td>\n",
              "      <td>1979</td>\n",
              "      <td>0.031747</td>\n",
              "      <td>-5.238183</td>\n",
              "      <td>-3,364.20</td>\n",
              "      <td>6.275683</td>\n",
              "      <td>8.0995</td>\n",
              "      <td>-1.061146</td>\n",
              "    </tr>\n",
              "    <tr>\n",
              "      <th>7</th>\n",
              "      <td>7</td>\n",
              "      <td>1980</td>\n",
              "      <td>0.042485</td>\n",
              "      <td>6.735822</td>\n",
              "      <td>-7,380.50</td>\n",
              "      <td>11.346073</td>\n",
              "      <td>7.9314</td>\n",
              "      <td>4.476508</td>\n",
              "    </tr>\n",
              "    <tr>\n",
              "      <th>8</th>\n",
              "      <td>8</td>\n",
              "      <td>1981</td>\n",
              "      <td>0.047506</td>\n",
              "      <td>6.006204</td>\n",
              "      <td>-6,468.20</td>\n",
              "      <td>13.112547</td>\n",
              "      <td>9.1305</td>\n",
              "      <td>5.118237</td>\n",
              "    </tr>\n",
              "    <tr>\n",
              "      <th>9</th>\n",
              "      <td>9</td>\n",
              "      <td>1982</td>\n",
              "      <td>0.035912</td>\n",
              "      <td>3.475733</td>\n",
              "      <td>-5,677.40</td>\n",
              "      <td>7.890743</td>\n",
              "      <td>9.6926</td>\n",
              "      <td>7.774707</td>\n",
              "    </tr>\n",
              "    <tr>\n",
              "      <th>10</th>\n",
              "      <td>10</td>\n",
              "      <td>1983</td>\n",
              "      <td>0.002584</td>\n",
              "      <td>7.288893</td>\n",
              "      <td>-5,860.70</td>\n",
              "      <td>11.868081</td>\n",
              "      <td>10.4895</td>\n",
              "      <td>7.320987</td>\n",
              "    </tr>\n",
              "    <tr>\n",
              "      <th>11</th>\n",
              "      <td>11</td>\n",
              "      <td>1984</td>\n",
              "      <td>0.009069</td>\n",
              "      <td>3.820738</td>\n",
              "      <td>-4,533.20</td>\n",
              "      <td>8.318907</td>\n",
              "      <td>12.2925</td>\n",
              "      <td>7.947100</td>\n",
              "    </tr>\n",
              "    <tr>\n",
              "      <th>12</th>\n",
              "      <td>12</td>\n",
              "      <td>1985</td>\n",
              "      <td>0.045628</td>\n",
              "      <td>5.254299</td>\n",
              "      <td>-7,159.30</td>\n",
              "      <td>5.556424</td>\n",
              "      <td>12.1524</td>\n",
              "      <td>8.681674</td>\n",
              "    </tr>\n",
              "    <tr>\n",
              "      <th>13</th>\n",
              "      <td>13</td>\n",
              "      <td>1986</td>\n",
              "      <td>0.047284</td>\n",
              "      <td>4.776564</td>\n",
              "      <td>-5,981.20</td>\n",
              "      <td>8.729721</td>\n",
              "      <td>13.1486</td>\n",
              "      <td>9.093224</td>\n",
              "    </tr>\n",
              "    <tr>\n",
              "      <th>14</th>\n",
              "      <td>14</td>\n",
              "      <td>1987</td>\n",
              "      <td>0.076091</td>\n",
              "      <td>3.965356</td>\n",
              "      <td>-5,065.50</td>\n",
              "      <td>8.801126</td>\n",
              "      <td>12.9345</td>\n",
              "      <td>6.560180</td>\n",
              "    </tr>\n",
              "    <tr>\n",
              "      <th>15</th>\n",
              "      <td>15</td>\n",
              "      <td>1988</td>\n",
              "      <td>0.030766</td>\n",
              "      <td>9.627783</td>\n",
              "      <td>-5,527.60</td>\n",
              "      <td>9.383472</td>\n",
              "      <td>15.0190</td>\n",
              "      <td>7.638633</td>\n",
              "    </tr>\n",
              "    <tr>\n",
              "      <th>16</th>\n",
              "      <td>16</td>\n",
              "      <td>1989</td>\n",
              "      <td>0.085157</td>\n",
              "      <td>5.947343</td>\n",
              "      <td>-4,606.60</td>\n",
              "      <td>7.074280</td>\n",
              "      <td>16.9320</td>\n",
              "      <td>7.435843</td>\n",
              "    </tr>\n",
              "    <tr>\n",
              "      <th>17</th>\n",
              "      <td>17</td>\n",
              "      <td>1990</td>\n",
              "      <td>0.073740</td>\n",
              "      <td>5.533455</td>\n",
              "      <td>-5,316.20</td>\n",
              "      <td>8.971233</td>\n",
              "      <td>18.1272</td>\n",
              "      <td>5.269527</td>\n",
              "    </tr>\n",
              "    <tr>\n",
              "      <th>18</th>\n",
              "      <td>18</td>\n",
              "      <td>1991</td>\n",
              "      <td>0.027226</td>\n",
              "      <td>1.056831</td>\n",
              "      <td>-1,552.50</td>\n",
              "      <td>13.870246</td>\n",
              "      <td>25.8180</td>\n",
              "      <td>3.624717</td>\n",
              "    </tr>\n",
              "    <tr>\n",
              "      <th>19</th>\n",
              "      <td>19</td>\n",
              "      <td>1992</td>\n",
              "      <td>0.095942</td>\n",
              "      <td>5.482396</td>\n",
              "      <td>-3,146.90</td>\n",
              "      <td>11.787817</td>\n",
              "      <td>28.9786</td>\n",
              "      <td>9.132749</td>\n",
              "    </tr>\n",
              "    <tr>\n",
              "      <th>20</th>\n",
              "      <td>20</td>\n",
              "      <td>1993</td>\n",
              "      <td>0.197056</td>\n",
              "      <td>4.750776</td>\n",
              "      <td>-1,091.90</td>\n",
              "      <td>6.326890</td>\n",
              "      <td>31.4400</td>\n",
              "      <td>5.814777</td>\n",
              "    </tr>\n",
              "    <tr>\n",
              "      <th>21</th>\n",
              "      <td>21</td>\n",
              "      <td>1994</td>\n",
              "      <td>0.297386</td>\n",
              "      <td>6.658924</td>\n",
              "      <td>-2,324.70</td>\n",
              "      <td>10.247936</td>\n",
              "      <td>31.3894</td>\n",
              "      <td>4.337110</td>\n",
              "    </tr>\n",
              "    <tr>\n",
              "      <th>22</th>\n",
              "      <td>22</td>\n",
              "      <td>1995</td>\n",
              "      <td>0.594986</td>\n",
              "      <td>7.574492</td>\n",
              "      <td>-4,886.70</td>\n",
              "      <td>10.224886</td>\n",
              "      <td>34.9663</td>\n",
              "      <td>5.864178</td>\n",
              "    </tr>\n",
              "    <tr>\n",
              "      <th>23</th>\n",
              "      <td>23</td>\n",
              "      <td>1996</td>\n",
              "      <td>0.617479</td>\n",
              "      <td>7.549522</td>\n",
              "      <td>-5,665.90</td>\n",
              "      <td>8.977152</td>\n",
              "      <td>35.8815</td>\n",
              "      <td>7.792994</td>\n",
              "    </tr>\n",
              "    <tr>\n",
              "      <th>24</th>\n",
              "      <td>24</td>\n",
              "      <td>1997</td>\n",
              "      <td>0.860209</td>\n",
              "      <td>4.049821</td>\n",
              "      <td>-6,484.10</td>\n",
              "      <td>7.164252</td>\n",
              "      <td>39.4000</td>\n",
              "      <td>6.909579</td>\n",
              "    </tr>\n",
              "    <tr>\n",
              "      <th>25</th>\n",
              "      <td>25</td>\n",
              "      <td>1998</td>\n",
              "      <td>0.625286</td>\n",
              "      <td>6.184416</td>\n",
              "      <td>-9,159.50</td>\n",
              "      <td>13.230839</td>\n",
              "      <td>42.5909</td>\n",
              "      <td>5.121276</td>\n",
              "    </tr>\n",
              "    <tr>\n",
              "      <th>26</th>\n",
              "      <td>26</td>\n",
              "      <td>1999</td>\n",
              "      <td>0.472645</td>\n",
              "      <td>8.845756</td>\n",
              "      <td>-13,021.10</td>\n",
              "      <td>4.669820</td>\n",
              "      <td>43.5239</td>\n",
              "      <td>9.191247</td>\n",
              "    </tr>\n",
              "    <tr>\n",
              "      <th>27</th>\n",
              "      <td>27</td>\n",
              "      <td>2000</td>\n",
              "      <td>0.765213</td>\n",
              "      <td>3.840991</td>\n",
              "      <td>-5,897.20</td>\n",
              "      <td>4.009436</td>\n",
              "      <td>46.7845</td>\n",
              "      <td>8.342611</td>\n",
              "    </tr>\n",
              "    <tr>\n",
              "      <th>28</th>\n",
              "      <td>28</td>\n",
              "      <td>2001</td>\n",
              "      <td>1.056378</td>\n",
              "      <td>4.823966</td>\n",
              "      <td>-7,586.90</td>\n",
              "      <td>3.779293</td>\n",
              "      <td>47.9345</td>\n",
              "      <td>8.591449</td>\n",
              "    </tr>\n",
              "    <tr>\n",
              "      <th>29</th>\n",
              "      <td>29</td>\n",
              "      <td>2002</td>\n",
              "      <td>1.011572</td>\n",
              "      <td>3.803975</td>\n",
              "      <td>-8,690.10</td>\n",
              "      <td>4.297152</td>\n",
              "      <td>48.1495</td>\n",
              "      <td>7.907177</td>\n",
              "    </tr>\n",
              "    <tr>\n",
              "      <th>30</th>\n",
              "      <td>30</td>\n",
              "      <td>2003</td>\n",
              "      <td>0.605889</td>\n",
              "      <td>7.860381</td>\n",
              "      <td>-14,316.40</td>\n",
              "      <td>3.805859</td>\n",
              "      <td>45.5741</td>\n",
              "      <td>7.307881</td>\n",
              "    </tr>\n",
              "    <tr>\n",
              "      <th>31</th>\n",
              "      <td>31</td>\n",
              "      <td>2004</td>\n",
              "      <td>0.765601</td>\n",
              "      <td>7.922937</td>\n",
              "      <td>-27,970.00</td>\n",
              "      <td>3.767252</td>\n",
              "      <td>43.8470</td>\n",
              "      <td>4.910128</td>\n",
              "    </tr>\n",
              "    <tr>\n",
              "      <th>32</th>\n",
              "      <td>32</td>\n",
              "      <td>2005</td>\n",
              "      <td>0.886101</td>\n",
              "      <td>7.923431</td>\n",
              "      <td>-46,068.40</td>\n",
              "      <td>4.246344</td>\n",
              "      <td>45.5633</td>\n",
              "      <td>4.855145</td>\n",
              "    </tr>\n",
              "    <tr>\n",
              "      <th>33</th>\n",
              "      <td>33</td>\n",
              "      <td>2006</td>\n",
              "      <td>2.130168</td>\n",
              "      <td>8.060733</td>\n",
              "      <td>-58,805.00</td>\n",
              "      <td>5.796523</td>\n",
              "      <td>44.4835</td>\n",
              "      <td>2.570607</td>\n",
              "    </tr>\n",
              "    <tr>\n",
              "      <th>34</th>\n",
              "      <td>34</td>\n",
              "      <td>2007</td>\n",
              "      <td>2.073396</td>\n",
              "      <td>7.660815</td>\n",
              "      <td>-86,803.20</td>\n",
              "      <td>6.372881</td>\n",
              "      <td>39.3750</td>\n",
              "      <td>5.681844</td>\n",
              "    </tr>\n",
              "    <tr>\n",
              "      <th>35</th>\n",
              "      <td>35</td>\n",
              "      <td>2008</td>\n",
              "      <td>3.620522</td>\n",
              "      <td>3.086698</td>\n",
              "      <td>-116,219.60</td>\n",
              "      <td>8.349267</td>\n",
              "      <td>48.5132</td>\n",
              "      <td>3.771756</td>\n",
              "    </tr>\n",
              "    <tr>\n",
              "      <th>36</th>\n",
              "      <td>36</td>\n",
              "      <td>2009</td>\n",
              "      <td>2.651593</td>\n",
              "      <td>7.861889</td>\n",
              "      <td>-109,279.20</td>\n",
              "      <td>10.882353</td>\n",
              "      <td>46.5273</td>\n",
              "      <td>4.808592</td>\n",
              "    </tr>\n",
              "    <tr>\n",
              "      <th>37</th>\n",
              "      <td>37</td>\n",
              "      <td>2010</td>\n",
              "      <td>1.635034</td>\n",
              "      <td>8.497585</td>\n",
              "      <td>-118,618.60</td>\n",
              "      <td>11.989390</td>\n",
              "      <td>45.1000</td>\n",
              "      <td>-1.983859</td>\n",
              "    </tr>\n",
              "    <tr>\n",
              "      <th>38</th>\n",
              "      <td>38</td>\n",
              "      <td>2011</td>\n",
              "      <td>2.002066</td>\n",
              "      <td>5.241315</td>\n",
              "      <td>-183,421.00</td>\n",
              "      <td>8.911793</td>\n",
              "      <td>52.3824</td>\n",
              "      <td>1.317980</td>\n",
              "    </tr>\n",
              "    <tr>\n",
              "      <th>39</th>\n",
              "      <td>39</td>\n",
              "      <td>2012</td>\n",
              "      <td>1.312934</td>\n",
              "      <td>5.456389</td>\n",
              "      <td>-190,053.80</td>\n",
              "      <td>9.478997</td>\n",
              "      <td>54.6470</td>\n",
              "      <td>2.473522</td>\n",
              "    </tr>\n",
              "    <tr>\n",
              "      <th>40</th>\n",
              "      <td>40</td>\n",
              "      <td>2013</td>\n",
              "      <td>1.516276</td>\n",
              "      <td>6.386106</td>\n",
              "      <td>-133,954.20</td>\n",
              "      <td>10.017878</td>\n",
              "      <td>61.8110</td>\n",
              "      <td>3.865993</td>\n",
              "    </tr>\n",
              "    <tr>\n",
              "      <th>41</th>\n",
              "      <td>41</td>\n",
              "      <td>2014</td>\n",
              "      <td>1.695659</td>\n",
              "      <td>7.410228</td>\n",
              "      <td>-137,472.00</td>\n",
              "      <td>6.665657</td>\n",
              "      <td>62.7071</td>\n",
              "      <td>6.695176</td>\n",
              "    </tr>\n",
              "    <tr>\n",
              "      <th>42</th>\n",
              "      <td>42</td>\n",
              "      <td>2015</td>\n",
              "      <td>2.092116</td>\n",
              "      <td>7.996254</td>\n",
              "      <td>-118,227.90</td>\n",
              "      <td>4.906973</td>\n",
              "      <td>66.5023</td>\n",
              "      <td>7.556488</td>\n",
              "    </tr>\n",
              "    <tr>\n",
              "      <th>43</th>\n",
              "      <td>43</td>\n",
              "      <td>2016</td>\n",
              "      <td>1.937363</td>\n",
              "      <td>8.256306</td>\n",
              "      <td>-108,546.30</td>\n",
              "      <td>4.948216</td>\n",
              "      <td>67.8052</td>\n",
              "      <td>6.232711</td>\n",
              "    </tr>\n",
              "    <tr>\n",
              "      <th>44</th>\n",
              "      <td>44</td>\n",
              "      <td>2017</td>\n",
              "      <td>1.507317</td>\n",
              "      <td>6.795383</td>\n",
              "      <td>-162,066.50</td>\n",
              "      <td>3.328173</td>\n",
              "      <td>64.2445</td>\n",
              "      <td>5.327609</td>\n",
              "    </tr>\n",
              "    <tr>\n",
              "      <th>45</th>\n",
              "      <td>45</td>\n",
              "      <td>2018</td>\n",
              "      <td>1.558215</td>\n",
              "      <td>6.532989</td>\n",
              "      <td>-184,139.10</td>\n",
              "      <td>3.938826</td>\n",
              "      <td>70.8331</td>\n",
              "      <td>5.361666</td>\n",
              "    </tr>\n",
              "    <tr>\n",
              "      <th>46</th>\n",
              "      <td>46</td>\n",
              "      <td>2019</td>\n",
              "      <td>1.787382</td>\n",
              "      <td>4.041554</td>\n",
              "      <td>-160,990.40</td>\n",
              "      <td>3.729506</td>\n",
              "      <td>71.1567</td>\n",
              "      <td>6.910293</td>\n",
              "    </tr>\n",
              "    <tr>\n",
              "      <th>47</th>\n",
              "      <td>47</td>\n",
              "      <td>2020</td>\n",
              "      <td>2.412665</td>\n",
              "      <td>-7.251755</td>\n",
              "      <td>-102,010.00</td>\n",
              "      <td>6.623437</td>\n",
              "      <td>73.6195</td>\n",
              "      <td>3.360843</td>\n",
              "    </tr>\n",
              "  </tbody>\n",
              "</table>\n",
              "</div>\n",
              "      <button class=\"colab-df-convert\" onclick=\"convertToInteractive('df-6e5f22cc-e3af-4b96-8a42-834890977036')\"\n",
              "              title=\"Convert this dataframe to an interactive table.\"\n",
              "              style=\"display:none;\">\n",
              "        \n",
              "  <svg xmlns=\"http://www.w3.org/2000/svg\" height=\"24px\"viewBox=\"0 0 24 24\"\n",
              "       width=\"24px\">\n",
              "    <path d=\"M0 0h24v24H0V0z\" fill=\"none\"/>\n",
              "    <path d=\"M18.56 5.44l.94 2.06.94-2.06 2.06-.94-2.06-.94-.94-2.06-.94 2.06-2.06.94zm-11 1L8.5 8.5l.94-2.06 2.06-.94-2.06-.94L8.5 2.5l-.94 2.06-2.06.94zm10 10l.94 2.06.94-2.06 2.06-.94-2.06-.94-.94-2.06-.94 2.06-2.06.94z\"/><path d=\"M17.41 7.96l-1.37-1.37c-.4-.4-.92-.59-1.43-.59-.52 0-1.04.2-1.43.59L10.3 9.45l-7.72 7.72c-.78.78-.78 2.05 0 2.83L4 21.41c.39.39.9.59 1.41.59.51 0 1.02-.2 1.41-.59l7.78-7.78 2.81-2.81c.8-.78.8-2.07 0-2.86zM5.41 20L4 18.59l7.72-7.72 1.47 1.35L5.41 20z\"/>\n",
              "  </svg>\n",
              "      </button>\n",
              "      \n",
              "  <style>\n",
              "    .colab-df-container {\n",
              "      display:flex;\n",
              "      flex-wrap:wrap;\n",
              "      gap: 12px;\n",
              "    }\n",
              "\n",
              "    .colab-df-convert {\n",
              "      background-color: #E8F0FE;\n",
              "      border: none;\n",
              "      border-radius: 50%;\n",
              "      cursor: pointer;\n",
              "      display: none;\n",
              "      fill: #1967D2;\n",
              "      height: 32px;\n",
              "      padding: 0 0 0 0;\n",
              "      width: 32px;\n",
              "    }\n",
              "\n",
              "    .colab-df-convert:hover {\n",
              "      background-color: #E2EBFA;\n",
              "      box-shadow: 0px 1px 2px rgba(60, 64, 67, 0.3), 0px 1px 3px 1px rgba(60, 64, 67, 0.15);\n",
              "      fill: #174EA6;\n",
              "    }\n",
              "\n",
              "    [theme=dark] .colab-df-convert {\n",
              "      background-color: #3B4455;\n",
              "      fill: #D2E3FC;\n",
              "    }\n",
              "\n",
              "    [theme=dark] .colab-df-convert:hover {\n",
              "      background-color: #434B5C;\n",
              "      box-shadow: 0px 1px 3px 1px rgba(0, 0, 0, 0.15);\n",
              "      filter: drop-shadow(0px 1px 2px rgba(0, 0, 0, 0.3));\n",
              "      fill: #FFFFFF;\n",
              "    }\n",
              "  </style>\n",
              "\n",
              "      <script>\n",
              "        const buttonEl =\n",
              "          document.querySelector('#df-6e5f22cc-e3af-4b96-8a42-834890977036 button.colab-df-convert');\n",
              "        buttonEl.style.display =\n",
              "          google.colab.kernel.accessAllowed ? 'block' : 'none';\n",
              "\n",
              "        async function convertToInteractive(key) {\n",
              "          const element = document.querySelector('#df-6e5f22cc-e3af-4b96-8a42-834890977036');\n",
              "          const dataTable =\n",
              "            await google.colab.kernel.invokeFunction('convertToInteractive',\n",
              "                                                     [key], {});\n",
              "          if (!dataTable) return;\n",
              "\n",
              "          const docLinkHtml = 'Like what you see? Visit the ' +\n",
              "            '<a target=\"_blank\" href=https://colab.research.google.com/notebooks/data_table.ipynb>data table notebook</a>'\n",
              "            + ' to learn more about interactive tables.';\n",
              "          element.innerHTML = '';\n",
              "          dataTable['output_type'] = 'display_data';\n",
              "          await google.colab.output.renderOutput(dataTable, element);\n",
              "          const docLink = document.createElement('div');\n",
              "          docLink.innerHTML = docLinkHtml;\n",
              "          element.appendChild(docLink);\n",
              "        }\n",
              "      </script>\n",
              "    </div>\n",
              "  </div>\n",
              "  "
            ]
          },
          "metadata": {},
          "execution_count": 2
        }
      ],
      "source": [
        "train_df=pd.read_csv(\"/PPOC.csv\")\n",
        "train_df"
      ]
    },
    {
      "cell_type": "code",
      "execution_count": null,
      "id": "24ab987b",
      "metadata": {
        "id": "24ab987b"
      },
      "outputs": [],
      "source": [
        "train_df=train_df.drop('Unnamed: 0',axis=1)"
      ]
    },
    {
      "cell_type": "code",
      "execution_count": null,
      "id": "26fe3565",
      "metadata": {
        "id": "26fe3565"
      },
      "outputs": [],
      "source": [
        "train_df['TradeBalance'] = train_df['TradeBalance'].str.replace(',', '').astype(float)"
      ]
    },
    {
      "cell_type": "code",
      "source": [
        "train_df.head()"
      ],
      "metadata": {
        "colab": {
          "base_uri": "https://localhost:8080/",
          "height": 206
        },
        "id": "lIsPEP0hO9DS",
        "outputId": "000e6d1b-2ca1-4ace-cb8d-9667fab8018b"
      },
      "id": "lIsPEP0hO9DS",
      "execution_count": null,
      "outputs": [
        {
          "output_type": "execute_result",
          "data": {
            "text/plain": [
              "   Year  FDI in % of GDP  GDP growth  TradeBalance  Inflation  \\\n",
              "0  1973         0.044331    3.295521        -554.6  16.940816   \n",
              "1  1974         0.057241    1.185336       -1498.7  28.598734   \n",
              "2  1975        -0.010486    9.149912       -1415.9   5.748430   \n",
              "3  1976        -0.007503    1.663104          75.7  -7.633948   \n",
              "4  1977        -0.029682    7.254765        -712.5   8.307470   \n",
              "\n",
              "   Exchange Rate(INR/USD)  Real Interest Rate  \n",
              "0                  8.1100           10.774631  \n",
              "1                  8.0952           10.774631  \n",
              "2                  8.9827           10.774631  \n",
              "3                  8.8535           10.774631  \n",
              "4                  8.5371           10.774631  "
            ],
            "text/html": [
              "\n",
              "  <div id=\"df-4970e864-85a8-42ee-928d-1a431181291f\">\n",
              "    <div class=\"colab-df-container\">\n",
              "      <div>\n",
              "<style scoped>\n",
              "    .dataframe tbody tr th:only-of-type {\n",
              "        vertical-align: middle;\n",
              "    }\n",
              "\n",
              "    .dataframe tbody tr th {\n",
              "        vertical-align: top;\n",
              "    }\n",
              "\n",
              "    .dataframe thead th {\n",
              "        text-align: right;\n",
              "    }\n",
              "</style>\n",
              "<table border=\"1\" class=\"dataframe\">\n",
              "  <thead>\n",
              "    <tr style=\"text-align: right;\">\n",
              "      <th></th>\n",
              "      <th>Year</th>\n",
              "      <th>FDI in % of GDP</th>\n",
              "      <th>GDP growth</th>\n",
              "      <th>TradeBalance</th>\n",
              "      <th>Inflation</th>\n",
              "      <th>Exchange Rate(INR/USD)</th>\n",
              "      <th>Real Interest Rate</th>\n",
              "    </tr>\n",
              "  </thead>\n",
              "  <tbody>\n",
              "    <tr>\n",
              "      <th>0</th>\n",
              "      <td>1973</td>\n",
              "      <td>0.044331</td>\n",
              "      <td>3.295521</td>\n",
              "      <td>-554.6</td>\n",
              "      <td>16.940816</td>\n",
              "      <td>8.1100</td>\n",
              "      <td>10.774631</td>\n",
              "    </tr>\n",
              "    <tr>\n",
              "      <th>1</th>\n",
              "      <td>1974</td>\n",
              "      <td>0.057241</td>\n",
              "      <td>1.185336</td>\n",
              "      <td>-1498.7</td>\n",
              "      <td>28.598734</td>\n",
              "      <td>8.0952</td>\n",
              "      <td>10.774631</td>\n",
              "    </tr>\n",
              "    <tr>\n",
              "      <th>2</th>\n",
              "      <td>1975</td>\n",
              "      <td>-0.010486</td>\n",
              "      <td>9.149912</td>\n",
              "      <td>-1415.9</td>\n",
              "      <td>5.748430</td>\n",
              "      <td>8.9827</td>\n",
              "      <td>10.774631</td>\n",
              "    </tr>\n",
              "    <tr>\n",
              "      <th>3</th>\n",
              "      <td>1976</td>\n",
              "      <td>-0.007503</td>\n",
              "      <td>1.663104</td>\n",
              "      <td>75.7</td>\n",
              "      <td>-7.633948</td>\n",
              "      <td>8.8535</td>\n",
              "      <td>10.774631</td>\n",
              "    </tr>\n",
              "    <tr>\n",
              "      <th>4</th>\n",
              "      <td>1977</td>\n",
              "      <td>-0.029682</td>\n",
              "      <td>7.254765</td>\n",
              "      <td>-712.5</td>\n",
              "      <td>8.307470</td>\n",
              "      <td>8.5371</td>\n",
              "      <td>10.774631</td>\n",
              "    </tr>\n",
              "  </tbody>\n",
              "</table>\n",
              "</div>\n",
              "      <button class=\"colab-df-convert\" onclick=\"convertToInteractive('df-4970e864-85a8-42ee-928d-1a431181291f')\"\n",
              "              title=\"Convert this dataframe to an interactive table.\"\n",
              "              style=\"display:none;\">\n",
              "        \n",
              "  <svg xmlns=\"http://www.w3.org/2000/svg\" height=\"24px\"viewBox=\"0 0 24 24\"\n",
              "       width=\"24px\">\n",
              "    <path d=\"M0 0h24v24H0V0z\" fill=\"none\"/>\n",
              "    <path d=\"M18.56 5.44l.94 2.06.94-2.06 2.06-.94-2.06-.94-.94-2.06-.94 2.06-2.06.94zm-11 1L8.5 8.5l.94-2.06 2.06-.94-2.06-.94L8.5 2.5l-.94 2.06-2.06.94zm10 10l.94 2.06.94-2.06 2.06-.94-2.06-.94-.94-2.06-.94 2.06-2.06.94z\"/><path d=\"M17.41 7.96l-1.37-1.37c-.4-.4-.92-.59-1.43-.59-.52 0-1.04.2-1.43.59L10.3 9.45l-7.72 7.72c-.78.78-.78 2.05 0 2.83L4 21.41c.39.39.9.59 1.41.59.51 0 1.02-.2 1.41-.59l7.78-7.78 2.81-2.81c.8-.78.8-2.07 0-2.86zM5.41 20L4 18.59l7.72-7.72 1.47 1.35L5.41 20z\"/>\n",
              "  </svg>\n",
              "      </button>\n",
              "      \n",
              "  <style>\n",
              "    .colab-df-container {\n",
              "      display:flex;\n",
              "      flex-wrap:wrap;\n",
              "      gap: 12px;\n",
              "    }\n",
              "\n",
              "    .colab-df-convert {\n",
              "      background-color: #E8F0FE;\n",
              "      border: none;\n",
              "      border-radius: 50%;\n",
              "      cursor: pointer;\n",
              "      display: none;\n",
              "      fill: #1967D2;\n",
              "      height: 32px;\n",
              "      padding: 0 0 0 0;\n",
              "      width: 32px;\n",
              "    }\n",
              "\n",
              "    .colab-df-convert:hover {\n",
              "      background-color: #E2EBFA;\n",
              "      box-shadow: 0px 1px 2px rgba(60, 64, 67, 0.3), 0px 1px 3px 1px rgba(60, 64, 67, 0.15);\n",
              "      fill: #174EA6;\n",
              "    }\n",
              "\n",
              "    [theme=dark] .colab-df-convert {\n",
              "      background-color: #3B4455;\n",
              "      fill: #D2E3FC;\n",
              "    }\n",
              "\n",
              "    [theme=dark] .colab-df-convert:hover {\n",
              "      background-color: #434B5C;\n",
              "      box-shadow: 0px 1px 3px 1px rgba(0, 0, 0, 0.15);\n",
              "      filter: drop-shadow(0px 1px 2px rgba(0, 0, 0, 0.3));\n",
              "      fill: #FFFFFF;\n",
              "    }\n",
              "  </style>\n",
              "\n",
              "      <script>\n",
              "        const buttonEl =\n",
              "          document.querySelector('#df-4970e864-85a8-42ee-928d-1a431181291f button.colab-df-convert');\n",
              "        buttonEl.style.display =\n",
              "          google.colab.kernel.accessAllowed ? 'block' : 'none';\n",
              "\n",
              "        async function convertToInteractive(key) {\n",
              "          const element = document.querySelector('#df-4970e864-85a8-42ee-928d-1a431181291f');\n",
              "          const dataTable =\n",
              "            await google.colab.kernel.invokeFunction('convertToInteractive',\n",
              "                                                     [key], {});\n",
              "          if (!dataTable) return;\n",
              "\n",
              "          const docLinkHtml = 'Like what you see? Visit the ' +\n",
              "            '<a target=\"_blank\" href=https://colab.research.google.com/notebooks/data_table.ipynb>data table notebook</a>'\n",
              "            + ' to learn more about interactive tables.';\n",
              "          element.innerHTML = '';\n",
              "          dataTable['output_type'] = 'display_data';\n",
              "          await google.colab.output.renderOutput(dataTable, element);\n",
              "          const docLink = document.createElement('div');\n",
              "          docLink.innerHTML = docLinkHtml;\n",
              "          element.appendChild(docLink);\n",
              "        }\n",
              "      </script>\n",
              "    </div>\n",
              "  </div>\n",
              "  "
            ]
          },
          "metadata": {},
          "execution_count": 5
        }
      ]
    },
    {
      "cell_type": "code",
      "execution_count": null,
      "id": "e600867a",
      "metadata": {
        "colab": {
          "base_uri": "https://localhost:8080/"
        },
        "id": "e600867a",
        "outputId": "7122f438-9691-47d6-df87-056293e74dbd"
      },
      "outputs": [
        {
          "output_type": "stream",
          "name": "stdout",
          "text": [
            "<class 'pandas.core.frame.DataFrame'>\n",
            "RangeIndex: 48 entries, 0 to 47\n",
            "Data columns (total 7 columns):\n",
            " #   Column                  Non-Null Count  Dtype  \n",
            "---  ------                  --------------  -----  \n",
            " 0   Year                    48 non-null     int64  \n",
            " 1   FDI in % of GDP         48 non-null     float64\n",
            " 2   GDP growth              48 non-null     float64\n",
            " 3   TradeBalance            48 non-null     float64\n",
            " 4   Inflation               48 non-null     float64\n",
            " 5   Exchange Rate(INR/USD)  48 non-null     float64\n",
            " 6   Real Interest Rate      48 non-null     float64\n",
            "dtypes: float64(6), int64(1)\n",
            "memory usage: 2.8 KB\n"
          ]
        }
      ],
      "source": [
        "train_df.info()"
      ]
    },
    {
      "cell_type": "markdown",
      "id": "6f7192fc",
      "metadata": {
        "id": "6f7192fc"
      },
      "source": [
        "Correlation"
      ]
    },
    {
      "cell_type": "code",
      "execution_count": null,
      "id": "d10bb101",
      "metadata": {
        "colab": {
          "base_uri": "https://localhost:8080/",
          "height": 401
        },
        "id": "d10bb101",
        "outputId": "aff49b4a-8f3f-4b1c-f24e-fa5e0e5f924e"
      },
      "outputs": [
        {
          "output_type": "execute_result",
          "data": {
            "text/plain": [
              "(7.5, -0.5)"
            ]
          },
          "metadata": {},
          "execution_count": 7
        },
        {
          "output_type": "display_data",
          "data": {
            "text/plain": [
              "<Figure size 432x288 with 2 Axes>"
            ],
            "image/png": "[encoded data removed]"
          },
          "metadata": {
            "needs_background": "light"
          }
        }
      ],
      "source": [
        "correlation=train_df.corr()\n",
        "ax=sn.heatmap(correlation,annot=True,cmap=\"PiYG\")\n",
        "bottom,top=ax.get_ylim()\n",
        "ax.set_ylim(bottom+0.5,top-0.5)"
      ]
    },
    {
      "cell_type": "markdown",
      "source": [
        "1. Logically, exchange rate and trade balance are negatively correlated which says if the trade balance is positive, INR will appreciate.\n",
        "2. Secondly, exchange rate and real interest rate are negatively correlated which says if interest rate is high then the foreign investment will increase and so currency appreciates.\n"
      ],
      "metadata": {
        "id": "o5JsQoaDtutm"
      },
      "id": "o5JsQoaDtutm"
    },
    {
      "cell_type": "markdown",
      "id": "7ea6e7e6",
      "metadata": {
        "id": "7ea6e7e6"
      },
      "source": [
        "# Analysis"
      ]
    },
    {
      "cell_type": "markdown",
      "source": [
        "Inflation"
      ],
      "metadata": {
        "id": "SdSj2Aq0rqgK"
      },
      "id": "SdSj2Aq0rqgK"
    },
    {
      "cell_type": "code",
      "execution_count": null,
      "id": "ce45ea62",
      "metadata": {
        "colab": {
          "base_uri": "https://localhost:8080/",
          "height": 312
        },
        "id": "ce45ea62",
        "outputId": "58e35cf5-59d8-4e73-a1b0-bf964cb38f70"
      },
      "outputs": [
        {
          "output_type": "execute_result",
          "data": {
            "text/plain": [
              "Text(0, 0.5, 'CPI')"
            ]
          },
          "metadata": {},
          "execution_count": 8
        },
        {
          "output_type": "display_data",
          "data": {
            "text/plain": [
              "<Figure size 432x288 with 1 Axes>"
            ],
            "image/png": "[encoded data removed]"
          },
          "metadata": {
            "needs_background": "light"
          }
        }
      ],
      "source": [
        "plt.plot(train_df['Year'],train_df['Inflation'])\n",
        "plt.title('Inflation across years')\n",
        "plt.xlabel('Year')\n",
        "plt.ylabel('CPI')"
      ]
    },
    {
      "cell_type": "markdown",
      "source": [
        "Here we can see\n",
        "\n",
        "1. Around 1973-74 due to over dependence of fuel import, inflation crossed above 20% for the first time in the history\n",
        "\n",
        "2. During 1991 Indian economic crisis led to hike inflation\n",
        "\n",
        "3. 2008 Global Financial Crisis has led to another spike in inflation\n"
      ],
      "metadata": {
        "id": "MO8AG5e6q9_k"
      },
      "id": "MO8AG5e6q9_k"
    },
    {
      "cell_type": "markdown",
      "source": [
        "Exchange Rate"
      ],
      "metadata": {
        "id": "djfRtnc6rstB"
      },
      "id": "djfRtnc6rstB"
    },
    {
      "cell_type": "code",
      "source": [
        "plt.plot(train_df['Year'],train_df['Exchange Rate(INR/USD)'])\n",
        "plt.title('Exchange Rate across year')\n",
        "plt.xlabel('Year')\n",
        "plt.ylabel('Exchange Rate')"
      ],
      "metadata": {
        "colab": {
          "base_uri": "https://localhost:8080/",
          "height": 312
        },
        "id": "gzASXC5zqch9",
        "outputId": "d2a52119-6ba0-4f1c-96ea-6470f414d058"
      },
      "id": "gzASXC5zqch9",
      "execution_count": null,
      "outputs": [
        {
          "output_type": "execute_result",
          "data": {
            "text/plain": [
              "Text(0, 0.5, 'Exchange Rate')"
            ]
          },
          "metadata": {},
          "execution_count": 9
        },
        {
          "output_type": "display_data",
          "data": {
            "text/plain": [
              "<Figure size 432x288 with 1 Axes>"
            ],
            "image/png": "[encoded data removed]"
          },
          "metadata": {
            "needs_background": "light"
          }
        }
      ]
    },
    {
      "cell_type": "markdown",
      "source": [
        "1. Exchange rate is showing steady upward trend not just because of Indian Rupee is depreciating but also due to strengthening of Dollar\n",
        "\n",
        "2. In multiple parts of history to promote the export and increase export competitiveness, India has depreciated its currency against Dollar"
      ],
      "metadata": {
        "id": "6xQ7-JRlsMpb"
      },
      "id": "6xQ7-JRlsMpb"
    },
    {
      "cell_type": "markdown",
      "source": [
        "FDI as % of GDP"
      ],
      "metadata": {
        "id": "EDio0MfKsn38"
      },
      "id": "EDio0MfKsn38"
    },
    {
      "cell_type": "code",
      "source": [
        "plt.plot(train_df['Year'],train_df['FDI in % of GDP'])\n",
        "plt.title('FDI in % of GDP across year')\n",
        "plt.xlabel('Year')\n",
        "plt.ylabel('FDI in % of GDP')"
      ],
      "metadata": {
        "colab": {
          "base_uri": "https://localhost:8080/",
          "height": 312
        },
        "id": "N9ctltI0r9sW",
        "outputId": "e8c50b6f-9b06-482d-8c1e-8fb0129eecbc"
      },
      "id": "N9ctltI0r9sW",
      "execution_count": null,
      "outputs": [
        {
          "output_type": "execute_result",
          "data": {
            "text/plain": [
              "Text(0, 0.5, 'FDI in % of GDP')"
            ]
          },
          "metadata": {},
          "execution_count": 10
        },
        {
          "output_type": "display_data",
          "data": {
            "text/plain": [
              "<Figure size 432x288 with 1 Axes>"
            ],
            "image/png": "[encoded data removed]"
          },
          "metadata": {
            "needs_background": "light"
          }
        }
      ]
    },
    {
      "cell_type": "markdown",
      "source": [
        "FDI has steady increase across years.\n",
        "\n",
        "In recent years, FDI inflow is seeing record high numbers"
      ],
      "metadata": {
        "id": "O-pZvH5ltQAE"
      },
      "id": "O-pZvH5ltQAE"
    },
    {
      "cell_type": "markdown",
      "source": [
        "GDP Growth"
      ],
      "metadata": {
        "id": "Hw2bshNDteaz"
      },
      "id": "Hw2bshNDteaz"
    },
    {
      "cell_type": "code",
      "source": [
        "plt.plot(train_df['Year'],train_df['GDP growth'])\n",
        "plt.title('GDP Growth across years')\n",
        "plt.xlabel('Year')\n",
        "plt.ylabel('GDP Growth')"
      ],
      "metadata": {
        "colab": {
          "base_uri": "https://localhost:8080/",
          "height": 312
        },
        "id": "iU6SWgIfstEf",
        "outputId": "3e1621ec-a18c-4e1a-ea16-f093c2e8e7e6"
      },
      "id": "iU6SWgIfstEf",
      "execution_count": null,
      "outputs": [
        {
          "output_type": "execute_result",
          "data": {
            "text/plain": [
              "Text(0, 0.5, 'GDP Growth')"
            ]
          },
          "metadata": {},
          "execution_count": 11
        },
        {
          "output_type": "display_data",
          "data": {
            "text/plain": [
              "<Figure size 432x288 with 1 Axes>"
            ],
            "image/png": "[encoded data removed]"
          },
          "metadata": {
            "needs_background": "light"
          }
        }
      ]
    },
    {
      "cell_type": "markdown",
      "source": [
        "# Regression Model"
      ],
      "metadata": {
        "id": "0eigQCRCwhRt"
      },
      "id": "0eigQCRCwhRt"
    },
    {
      "cell_type": "code",
      "source": [
        "import statsmodels.api as sm"
      ],
      "metadata": {
        "colab": {
          "base_uri": "https://localhost:8080/"
        },
        "id": "J857DZ3AtiCG",
        "outputId": "a419b15b-d42b-48be-ef61-03f63d3871e6"
      },
      "id": "J857DZ3AtiCG",
      "execution_count": null,
      "outputs": [
        {
          "output_type": "stream",
          "name": "stderr",
          "text": [
            "/usr/local/lib/python3.7/dist-packages/statsmodels/tools/_testing.py:19: FutureWarning: pandas.util.testing is deprecated. Use the functions in the public API at pandas.testing instead.\n",
            "  import pandas.util.testing as tm\n"
          ]
        }
      ]
    },
    {
      "cell_type": "code",
      "source": [
        "x=train_df[['TradeBalance','Real Interest Rate']]"
      ],
      "metadata": {
        "id": "ZdjmdFulwsij"
      },
      "id": "ZdjmdFulwsij",
      "execution_count": null,
      "outputs": []
    },
    {
      "cell_type": "code",
      "source": [
        "y=train_df['Exchange Rate(INR/USD)']"
      ],
      "metadata": {
        "id": "4omovvRYxJtW"
      },
      "id": "4omovvRYxJtW",
      "execution_count": null,
      "outputs": []
    },
    {
      "cell_type": "code",
      "source": [
        "xnew = sm.add_constant(x)\n",
        "model = sm.OLS(y,xnew)\n",
        "results = model.fit()\n",
        "np.array(results.params)"
      ],
      "metadata": {
        "colab": {
          "base_uri": "https://localhost:8080/"
        },
        "id": "oQNAmewWwmq4",
        "outputId": "8c3da4d6-e5b0-4f10-e412-ada1b58d981d"
      },
      "id": "oQNAmewWwmq4",
      "execution_count": null,
      "outputs": [
        {
          "output_type": "stream",
          "name": "stderr",
          "text": [
            "/usr/local/lib/python3.7/dist-packages/statsmodels/tsa/tsatools.py:117: FutureWarning: In a future version of pandas all arguments of concat except for the argument 'objs' will be keyword-only\n",
            "  x = pd.concat(x[::order], 1)\n"
          ]
        },
        {
          "output_type": "execute_result",
          "data": {
            "text/plain": [
              "array([ 2.27546126e+01, -2.63712853e-04, -4.70062929e-02])"
            ]
          },
          "metadata": {},
          "execution_count": 15
        }
      ]
    },
    {
      "cell_type": "code",
      "source": [
        "results.summary()"
      ],
      "metadata": {
        "colab": {
          "base_uri": "https://localhost:8080/",
          "height": 508
        },
        "id": "jxig-QLBxYOg",
        "outputId": "0fde8bc2-a64d-4f0f-bbc3-4921eb3a708a"
      },
      "id": "jxig-QLBxYOg",
      "execution_count": null,
      "outputs": [
        {
          "output_type": "execute_result",
          "data": {
            "text/plain": [
              "<class 'statsmodels.iolib.summary.Summary'>\n",
              "\"\"\"\n",
              "                              OLS Regression Results                              \n",
              "==================================================================================\n",
              "Dep. Variable:     Exchange Rate(INR/USD)   R-squared:                       0.598\n",
              "Model:                                OLS   Adj. R-squared:                  0.581\n",
              "Method:                     Least Squares   F-statistic:                     33.53\n",
              "Date:                    Wed, 06 Jul 2022   Prob (F-statistic):           1.21e-09\n",
              "Time:                            16:20:53   Log-Likelihood:                -192.59\n",
              "No. Observations:                      48   AIC:                             391.2\n",
              "Df Residuals:                          45   BIC:                             396.8\n",
              "Df Model:                               2                                         \n",
              "Covariance Type:                nonrobust                                         \n",
              "======================================================================================\n",
              "                         coef    std err          t      P>|t|      [0.025      0.975]\n",
              "--------------------------------------------------------------------------------------\n",
              "const                 22.7546      6.297      3.613      0.001      10.071      35.438\n",
              "TradeBalance          -0.0003   3.68e-05     -7.167      0.000      -0.000      -0.000\n",
              "Real Interest Rate    -0.0470      0.785     -0.060      0.953      -1.628       1.534\n",
              "==============================================================================\n",
              "Omnibus:                       16.480   Durbin-Watson:                   0.205\n",
              "Prob(Omnibus):                  0.000   Jarque-Bera (JB):                4.087\n",
              "Skew:                           0.312   Prob(JB):                        0.130\n",
              "Kurtosis:                       1.714   Cond. No.                     2.44e+05\n",
              "==============================================================================\n",
              "\n",
              "Warnings:\n",
              "[1] Standard Errors assume that the covariance matrix of the errors is correctly specified.\n",
              "[2] The condition number is large, 2.44e+05. This might indicate that there are\n",
              "strong multicollinearity or other numerical problems.\n",
              "\"\"\""
            ],
            "text/html": [
              "<table class=\"simpletable\">\n",
              "<caption>OLS Regression Results</caption>\n",
              "<tr>\n",
              "  <th>Dep. Variable:</th>    <td>Exchange Rate(INR/USD)</td> <th>  R-squared:         </th> <td>   0.598</td>\n",
              "</tr>\n",
              "<tr>\n",
              "  <th>Model:</th>                      <td>OLS</td>          <th>  Adj. R-squared:    </th> <td>   0.581</td>\n",
              "</tr>\n",
              "<tr>\n",
              "  <th>Method:</th>                <td>Least Squares</td>     <th>  F-statistic:       </th> <td>   33.53</td>\n",
              "</tr>\n",
              "<tr>\n",
              "  <th>Date:</th>                <td>Wed, 06 Jul 2022</td>    <th>  Prob (F-statistic):</th> <td>1.21e-09</td>\n",
              "</tr>\n",
              "<tr>\n",
              "  <th>Time:</th>                    <td>16:20:53</td>        <th>  Log-Likelihood:    </th> <td> -192.59</td>\n",
              "</tr>\n",
              "<tr>\n",
              "  <th>No. Observations:</th>         <td>    48</td>         <th>  AIC:               </th> <td>   391.2</td>\n",
              "</tr>\n",
              "<tr>\n",
              "  <th>Df Residuals:</th>             <td>    45</td>         <th>  BIC:               </th> <td>   396.8</td>\n",
              "</tr>\n",
              "<tr>\n",
              "  <th>Df Model:</th>                 <td>     2</td>         <th>                     </th>     <td> </td>   \n",
              "</tr>\n",
              "<tr>\n",
              "  <th>Covariance Type:</th>         <td>nonrobust</td>       <th>                     </th>     <td> </td>   \n",
              "</tr>\n",
              "</table>\n",
              "<table class=\"simpletable\">\n",
              "<tr>\n",
              "           <td></td>             <th>coef</th>     <th>std err</th>      <th>t</th>      <th>P>|t|</th>  <th>[0.025</th>    <th>0.975]</th>  \n",
              "</tr>\n",
              "<tr>\n",
              "  <th>const</th>              <td>   22.7546</td> <td>    6.297</td> <td>    3.613</td> <td> 0.001</td> <td>   10.071</td> <td>   35.438</td>\n",
              "</tr>\n",
              "<tr>\n",
              "  <th>TradeBalance</th>       <td>   -0.0003</td> <td> 3.68e-05</td> <td>   -7.167</td> <td> 0.000</td> <td>   -0.000</td> <td>   -0.000</td>\n",
              "</tr>\n",
              "<tr>\n",
              "  <th>Real Interest Rate</th> <td>   -0.0470</td> <td>    0.785</td> <td>   -0.060</td> <td> 0.953</td> <td>   -1.628</td> <td>    1.534</td>\n",
              "</tr>\n",
              "</table>\n",
              "<table class=\"simpletable\">\n",
              "<tr>\n",
              "  <th>Omnibus:</th>       <td>16.480</td> <th>  Durbin-Watson:     </th> <td>   0.205</td>\n",
              "</tr>\n",
              "<tr>\n",
              "  <th>Prob(Omnibus):</th> <td> 0.000</td> <th>  Jarque-Bera (JB):  </th> <td>   4.087</td>\n",
              "</tr>\n",
              "<tr>\n",
              "  <th>Skew:</th>          <td> 0.312</td> <th>  Prob(JB):          </th> <td>   0.130</td>\n",
              "</tr>\n",
              "<tr>\n",
              "  <th>Kurtosis:</th>      <td> 1.714</td> <th>  Cond. No.          </th> <td>2.44e+05</td>\n",
              "</tr>\n",
              "</table><br/><br/>Warnings:<br/>[1] Standard Errors assume that the covariance matrix of the errors is correctly specified.<br/>[2] The condition number is large, 2.44e+05. This might indicate that there are<br/>strong multicollinearity or other numerical problems."
            ]
          },
          "metadata": {},
          "execution_count": 16
        }
      ]
    },
    {
      "cell_type": "code",
      "source": [
        "x=train_df[['TradeBalance','Real Interest Rate','FDI in % of GDP']]"
      ],
      "metadata": {
        "id": "0MkBNgdgR7l1"
      },
      "id": "0MkBNgdgR7l1",
      "execution_count": null,
      "outputs": []
    },
    {
      "cell_type": "code",
      "source": [
        "y=train_df['Exchange Rate(INR/USD)']"
      ],
      "metadata": {
        "id": "LQJNu9nPSG_F"
      },
      "id": "LQJNu9nPSG_F",
      "execution_count": null,
      "outputs": []
    },
    {
      "cell_type": "code",
      "source": [
        "xnew = sm.add_constant(x)\n",
        "model = sm.OLS(y,xnew)\n",
        "results = model.fit()\n",
        "np.array(results.params)"
      ],
      "metadata": {
        "colab": {
          "base_uri": "https://localhost:8080/"
        },
        "id": "4HOOYAS2SI4d",
        "outputId": "54a969a3-80d6-460b-b4c5-600183c0ef77"
      },
      "id": "4HOOYAS2SI4d",
      "execution_count": null,
      "outputs": [
        {
          "output_type": "stream",
          "name": "stderr",
          "text": [
            "/usr/local/lib/python3.7/dist-packages/statsmodels/tsa/tsatools.py:117: FutureWarning: In a future version of pandas all arguments of concat except for the argument 'objs' will be keyword-only\n",
            "  x = pd.concat(x[::order], 1)\n"
          ]
        },
        {
          "output_type": "execute_result",
          "data": {
            "text/plain": [
              "array([ 1.62733862e+01, -1.29608290e-04,  3.37910450e-01,  1.24093426e+01])"
            ]
          },
          "metadata": {},
          "execution_count": 19
        }
      ]
    },
    {
      "cell_type": "code",
      "source": [
        "results.summary()"
      ],
      "metadata": {
        "colab": {
          "base_uri": "https://localhost:8080/",
          "height": 529
        },
        "id": "Uy0d9C00SI67",
        "outputId": "45bfc57c-1c3f-4ea8-ea3c-5eee6db9876f"
      },
      "id": "Uy0d9C00SI67",
      "execution_count": null,
      "outputs": [
        {
          "output_type": "execute_result",
          "data": {
            "text/plain": [
              "<class 'statsmodels.iolib.summary.Summary'>\n",
              "\"\"\"\n",
              "                              OLS Regression Results                              \n",
              "==================================================================================\n",
              "Dep. Variable:     Exchange Rate(INR/USD)   R-squared:                       0.702\n",
              "Model:                                OLS   Adj. R-squared:                  0.681\n",
              "Method:                     Least Squares   F-statistic:                     34.50\n",
              "Date:                    Wed, 06 Jul 2022   Prob (F-statistic):           1.26e-11\n",
              "Time:                            16:20:59   Log-Likelihood:                -185.45\n",
              "No. Observations:                      48   AIC:                             378.9\n",
              "Df Residuals:                          44   BIC:                             386.4\n",
              "Df Model:                               3                                         \n",
              "Covariance Type:                nonrobust                                         \n",
              "======================================================================================\n",
              "                         coef    std err          t      P>|t|      [0.025      0.975]\n",
              "--------------------------------------------------------------------------------------\n",
              "const                 16.2734      5.734      2.838      0.007       4.716      27.830\n",
              "TradeBalance          -0.0001    4.7e-05     -2.758      0.008      -0.000   -3.49e-05\n",
              "Real Interest Rate     0.3379      0.691      0.489      0.627      -1.055       1.731\n",
              "FDI in % of GDP       12.4093      3.179      3.903      0.000       6.002      18.817\n",
              "==============================================================================\n",
              "Omnibus:                        5.571   Durbin-Watson:                   0.218\n",
              "Prob(Omnibus):                  0.062   Jarque-Bera (JB):                2.307\n",
              "Skew:                          -0.180   Prob(JB):                        0.316\n",
              "Kurtosis:                       1.988   Cond. No.                     2.59e+05\n",
              "==============================================================================\n",
              "\n",
              "Warnings:\n",
              "[1] Standard Errors assume that the covariance matrix of the errors is correctly specified.\n",
              "[2] The condition number is large, 2.59e+05. This might indicate that there are\n",
              "strong multicollinearity or other numerical problems.\n",
              "\"\"\""
            ],
            "text/html": [
              "<table class=\"simpletable\">\n",
              "<caption>OLS Regression Results</caption>\n",
              "<tr>\n",
              "  <th>Dep. Variable:</th>    <td>Exchange Rate(INR/USD)</td> <th>  R-squared:         </th> <td>   0.702</td>\n",
              "</tr>\n",
              "<tr>\n",
              "  <th>Model:</th>                      <td>OLS</td>          <th>  Adj. R-squared:    </th> <td>   0.681</td>\n",
              "</tr>\n",
              "<tr>\n",
              "  <th>Method:</th>                <td>Least Squares</td>     <th>  F-statistic:       </th> <td>   34.50</td>\n",
              "</tr>\n",
              "<tr>\n",
              "  <th>Date:</th>                <td>Wed, 06 Jul 2022</td>    <th>  Prob (F-statistic):</th> <td>1.26e-11</td>\n",
              "</tr>\n",
              "<tr>\n",
              "  <th>Time:</th>                    <td>16:20:59</td>        <th>  Log-Likelihood:    </th> <td> -185.45</td>\n",
              "</tr>\n",
              "<tr>\n",
              "  <th>No. Observations:</th>         <td>    48</td>         <th>  AIC:               </th> <td>   378.9</td>\n",
              "</tr>\n",
              "<tr>\n",
              "  <th>Df Residuals:</th>             <td>    44</td>         <th>  BIC:               </th> <td>   386.4</td>\n",
              "</tr>\n",
              "<tr>\n",
              "  <th>Df Model:</th>                 <td>     3</td>         <th>                     </th>     <td> </td>   \n",
              "</tr>\n",
              "<tr>\n",
              "  <th>Covariance Type:</th>         <td>nonrobust</td>       <th>                     </th>     <td> </td>   \n",
              "</tr>\n",
              "</table>\n",
              "<table class=\"simpletable\">\n",
              "<tr>\n",
              "           <td></td>             <th>coef</th>     <th>std err</th>      <th>t</th>      <th>P>|t|</th>  <th>[0.025</th>    <th>0.975]</th>  \n",
              "</tr>\n",
              "<tr>\n",
              "  <th>const</th>              <td>   16.2734</td> <td>    5.734</td> <td>    2.838</td> <td> 0.007</td> <td>    4.716</td> <td>   27.830</td>\n",
              "</tr>\n",
              "<tr>\n",
              "  <th>TradeBalance</th>       <td>   -0.0001</td> <td>  4.7e-05</td> <td>   -2.758</td> <td> 0.008</td> <td>   -0.000</td> <td>-3.49e-05</td>\n",
              "</tr>\n",
              "<tr>\n",
              "  <th>Real Interest Rate</th> <td>    0.3379</td> <td>    0.691</td> <td>    0.489</td> <td> 0.627</td> <td>   -1.055</td> <td>    1.731</td>\n",
              "</tr>\n",
              "<tr>\n",
              "  <th>FDI in % of GDP</th>    <td>   12.4093</td> <td>    3.179</td> <td>    3.903</td> <td> 0.000</td> <td>    6.002</td> <td>   18.817</td>\n",
              "</tr>\n",
              "</table>\n",
              "<table class=\"simpletable\">\n",
              "<tr>\n",
              "  <th>Omnibus:</th>       <td> 5.571</td> <th>  Durbin-Watson:     </th> <td>   0.218</td>\n",
              "</tr>\n",
              "<tr>\n",
              "  <th>Prob(Omnibus):</th> <td> 0.062</td> <th>  Jarque-Bera (JB):  </th> <td>   2.307</td>\n",
              "</tr>\n",
              "<tr>\n",
              "  <th>Skew:</th>          <td>-0.180</td> <th>  Prob(JB):          </th> <td>   0.316</td>\n",
              "</tr>\n",
              "<tr>\n",
              "  <th>Kurtosis:</th>      <td> 1.988</td> <th>  Cond. No.          </th> <td>2.59e+05</td>\n",
              "</tr>\n",
              "</table><br/><br/>Warnings:<br/>[1] Standard Errors assume that the covariance matrix of the errors is correctly specified.<br/>[2] The condition number is large, 2.59e+05. This might indicate that there are<br/>strong multicollinearity or other numerical problems."
            ]
          },
          "metadata": {},
          "execution_count": 20
        }
      ]
    },
    {
      "cell_type": "code",
      "source": [
        "x=train_df[['TradeBalance','Real Interest Rate','FDI in % of GDP','Inflation']]"
      ],
      "metadata": {
        "id": "C1dyKsCPSWNN"
      },
      "id": "C1dyKsCPSWNN",
      "execution_count": null,
      "outputs": []
    },
    {
      "cell_type": "code",
      "source": [
        "y=train_df['Exchange Rate(INR/USD)']"
      ],
      "metadata": {
        "id": "jkvVO5eLSgrN"
      },
      "id": "jkvVO5eLSgrN",
      "execution_count": null,
      "outputs": []
    },
    {
      "cell_type": "code",
      "source": [
        "xnew = sm.add_constant(x)\n",
        "model = sm.OLS(y,xnew)\n",
        "results = model.fit()\n",
        "np.array(results.params)"
      ],
      "metadata": {
        "colab": {
          "base_uri": "https://localhost:8080/"
        },
        "id": "NW4G6EC-Sg-s",
        "outputId": "6a6954b2-c0c3-4278-c049-a58c4dbd4336"
      },
      "id": "NW4G6EC-Sg-s",
      "execution_count": null,
      "outputs": [
        {
          "output_type": "stream",
          "name": "stderr",
          "text": [
            "/usr/local/lib/python3.7/dist-packages/statsmodels/tsa/tsatools.py:117: FutureWarning: In a future version of pandas all arguments of concat except for the argument 'objs' will be keyword-only\n",
            "  x = pd.concat(x[::order], 1)\n"
          ]
        },
        {
          "output_type": "execute_result",
          "data": {
            "text/plain": [
              "array([ 2.32346594e+01, -1.25666074e-04,  1.29478977e-01,  1.17609844e+01,\n",
              "       -6.25230684e-01])"
            ]
          },
          "metadata": {},
          "execution_count": 23
        }
      ]
    },
    {
      "cell_type": "code",
      "source": [
        "results.summary()"
      ],
      "metadata": {
        "colab": {
          "base_uri": "https://localhost:8080/",
          "height": 550
        },
        "id": "isJUXtGFShB0",
        "outputId": "1f72d574-ee60-4b5e-85e3-e5c6e2ecdce7"
      },
      "id": "isJUXtGFShB0",
      "execution_count": null,
      "outputs": [
        {
          "output_type": "execute_result",
          "data": {
            "text/plain": [
              "<class 'statsmodels.iolib.summary.Summary'>\n",
              "\"\"\"\n",
              "                              OLS Regression Results                              \n",
              "==================================================================================\n",
              "Dep. Variable:     Exchange Rate(INR/USD)   R-squared:                       0.722\n",
              "Model:                                OLS   Adj. R-squared:                  0.696\n",
              "Method:                     Least Squares   F-statistic:                     27.90\n",
              "Date:                    Wed, 06 Jul 2022   Prob (F-statistic):           1.86e-11\n",
              "Time:                            16:21:05   Log-Likelihood:                -183.77\n",
              "No. Observations:                      48   AIC:                             377.5\n",
              "Df Residuals:                          43   BIC:                             386.9\n",
              "Df Model:                               4                                         \n",
              "Covariance Type:                nonrobust                                         \n",
              "======================================================================================\n",
              "                         coef    std err          t      P>|t|      [0.025      0.975]\n",
              "--------------------------------------------------------------------------------------\n",
              "const                 23.2347      6.851      3.391      0.002       9.418      37.052\n",
              "TradeBalance          -0.0001    4.6e-05     -2.734      0.009      -0.000    -3.3e-05\n",
              "Real Interest Rate     0.1295      0.686      0.189      0.851      -1.253       1.512\n",
              "FDI in % of GDP       11.7610      3.127      3.761      0.001       5.454      18.068\n",
              "Inflation             -0.6252      0.354     -1.765      0.085      -1.340       0.089\n",
              "==============================================================================\n",
              "Omnibus:                        5.372   Durbin-Watson:                   0.315\n",
              "Prob(Omnibus):                  0.068   Jarque-Bera (JB):                2.532\n",
              "Skew:                          -0.275   Prob(JB):                        0.282\n",
              "Kurtosis:                       2.018   Cond. No.                     3.15e+05\n",
              "==============================================================================\n",
              "\n",
              "Warnings:\n",
              "[1] Standard Errors assume that the covariance matrix of the errors is correctly specified.\n",
              "[2] The condition number is large, 3.15e+05. This might indicate that there are\n",
              "strong multicollinearity or other numerical problems.\n",
              "\"\"\""
            ],
            "text/html": [
              "<table class=\"simpletable\">\n",
              "<caption>OLS Regression Results</caption>\n",
              "<tr>\n",
              "  <th>Dep. Variable:</th>    <td>Exchange Rate(INR/USD)</td> <th>  R-squared:         </th> <td>   0.722</td>\n",
              "</tr>\n",
              "<tr>\n",
              "  <th>Model:</th>                      <td>OLS</td>          <th>  Adj. R-squared:    </th> <td>   0.696</td>\n",
              "</tr>\n",
              "<tr>\n",
              "  <th>Method:</th>                <td>Least Squares</td>     <th>  F-statistic:       </th> <td>   27.90</td>\n",
              "</tr>\n",
              "<tr>\n",
              "  <th>Date:</th>                <td>Wed, 06 Jul 2022</td>    <th>  Prob (F-statistic):</th> <td>1.86e-11</td>\n",
              "</tr>\n",
              "<tr>\n",
              "  <th>Time:</th>                    <td>16:21:05</td>        <th>  Log-Likelihood:    </th> <td> -183.77</td>\n",
              "</tr>\n",
              "<tr>\n",
              "  <th>No. Observations:</th>         <td>    48</td>         <th>  AIC:               </th> <td>   377.5</td>\n",
              "</tr>\n",
              "<tr>\n",
              "  <th>Df Residuals:</th>             <td>    43</td>         <th>  BIC:               </th> <td>   386.9</td>\n",
              "</tr>\n",
              "<tr>\n",
              "  <th>Df Model:</th>                 <td>     4</td>         <th>                     </th>     <td> </td>   \n",
              "</tr>\n",
              "<tr>\n",
              "  <th>Covariance Type:</th>         <td>nonrobust</td>       <th>                     </th>     <td> </td>   \n",
              "</tr>\n",
              "</table>\n",
              "<table class=\"simpletable\">\n",
              "<tr>\n",
              "           <td></td>             <th>coef</th>     <th>std err</th>      <th>t</th>      <th>P>|t|</th>  <th>[0.025</th>    <th>0.975]</th>  \n",
              "</tr>\n",
              "<tr>\n",
              "  <th>const</th>              <td>   23.2347</td> <td>    6.851</td> <td>    3.391</td> <td> 0.002</td> <td>    9.418</td> <td>   37.052</td>\n",
              "</tr>\n",
              "<tr>\n",
              "  <th>TradeBalance</th>       <td>   -0.0001</td> <td>  4.6e-05</td> <td>   -2.734</td> <td> 0.009</td> <td>   -0.000</td> <td> -3.3e-05</td>\n",
              "</tr>\n",
              "<tr>\n",
              "  <th>Real Interest Rate</th> <td>    0.1295</td> <td>    0.686</td> <td>    0.189</td> <td> 0.851</td> <td>   -1.253</td> <td>    1.512</td>\n",
              "</tr>\n",
              "<tr>\n",
              "  <th>FDI in % of GDP</th>    <td>   11.7610</td> <td>    3.127</td> <td>    3.761</td> <td> 0.001</td> <td>    5.454</td> <td>   18.068</td>\n",
              "</tr>\n",
              "<tr>\n",
              "  <th>Inflation</th>          <td>   -0.6252</td> <td>    0.354</td> <td>   -1.765</td> <td> 0.085</td> <td>   -1.340</td> <td>    0.089</td>\n",
              "</tr>\n",
              "</table>\n",
              "<table class=\"simpletable\">\n",
              "<tr>\n",
              "  <th>Omnibus:</th>       <td> 5.372</td> <th>  Durbin-Watson:     </th> <td>   0.315</td>\n",
              "</tr>\n",
              "<tr>\n",
              "  <th>Prob(Omnibus):</th> <td> 0.068</td> <th>  Jarque-Bera (JB):  </th> <td>   2.532</td>\n",
              "</tr>\n",
              "<tr>\n",
              "  <th>Skew:</th>          <td>-0.275</td> <th>  Prob(JB):          </th> <td>   0.282</td>\n",
              "</tr>\n",
              "<tr>\n",
              "  <th>Kurtosis:</th>      <td> 2.018</td> <th>  Cond. No.          </th> <td>3.15e+05</td>\n",
              "</tr>\n",
              "</table><br/><br/>Warnings:<br/>[1] Standard Errors assume that the covariance matrix of the errors is correctly specified.<br/>[2] The condition number is large, 3.15e+05. This might indicate that there are<br/>strong multicollinearity or other numerical problems."
            ]
          },
          "metadata": {},
          "execution_count": 24
        }
      ]
    },
    {
      "cell_type": "code",
      "source": [
        "x=train_df[['TradeBalance','Real Interest Rate','FDI in % of GDP','Inflation','GDP growth']]"
      ],
      "metadata": {
        "id": "IJA2UQQUSohv"
      },
      "id": "IJA2UQQUSohv",
      "execution_count": null,
      "outputs": []
    },
    {
      "cell_type": "code",
      "source": [
        "y=train_df['Exchange Rate(INR/USD)']"
      ],
      "metadata": {
        "id": "8vED1wjmS7_F"
      },
      "id": "8vED1wjmS7_F",
      "execution_count": null,
      "outputs": []
    },
    {
      "cell_type": "code",
      "source": [
        "xnew = sm.add_constant(x)\n",
        "model = sm.OLS(y,xnew)\n",
        "results = model.fit()\n",
        "np.array(results.params)"
      ],
      "metadata": {
        "colab": {
          "base_uri": "https://localhost:8080/"
        },
        "id": "QtW7iZxYS-00",
        "outputId": "5aa557f3-3aa0-423e-e031-b1748f0e9df9"
      },
      "id": "QtW7iZxYS-00",
      "execution_count": null,
      "outputs": [
        {
          "output_type": "stream",
          "name": "stderr",
          "text": [
            "/usr/local/lib/python3.7/dist-packages/statsmodels/tsa/tsatools.py:117: FutureWarning: In a future version of pandas all arguments of concat except for the argument 'objs' will be keyword-only\n",
            "  x = pd.concat(x[::order], 1)\n"
          ]
        },
        {
          "output_type": "execute_result",
          "data": {
            "text/plain": [
              "array([ 2.25607114e+01, -1.23185990e-04,  7.73989884e-02,  1.17977403e+01,\n",
              "       -6.21727637e-01,  1.95892183e-01])"
            ]
          },
          "metadata": {},
          "execution_count": 27
        }
      ]
    },
    {
      "cell_type": "code",
      "source": [
        "results.summary()"
      ],
      "metadata": {
        "colab": {
          "base_uri": "https://localhost:8080/",
          "height": 572
        },
        "id": "LV9nzDjQTBWV",
        "outputId": "1c7b4d27-28d3-4d52-d581-35022ef2737a"
      },
      "id": "LV9nzDjQTBWV",
      "execution_count": null,
      "outputs": [
        {
          "output_type": "execute_result",
          "data": {
            "text/plain": [
              "<class 'statsmodels.iolib.summary.Summary'>\n",
              "\"\"\"\n",
              "                              OLS Regression Results                              \n",
              "==================================================================================\n",
              "Dep. Variable:     Exchange Rate(INR/USD)   R-squared:                       0.723\n",
              "Model:                                OLS   Adj. R-squared:                  0.690\n",
              "Method:                     Least Squares   F-statistic:                     21.89\n",
              "Date:                    Wed, 06 Jul 2022   Prob (F-statistic):           9.99e-11\n",
              "Time:                            16:21:10   Log-Likelihood:                -183.70\n",
              "No. Observations:                      48   AIC:                             379.4\n",
              "Df Residuals:                          42   BIC:                             390.6\n",
              "Df Model:                               5                                         \n",
              "Covariance Type:                nonrobust                                         \n",
              "======================================================================================\n",
              "                         coef    std err          t      P>|t|      [0.025      0.975]\n",
              "--------------------------------------------------------------------------------------\n",
              "const                 22.5607      7.181      3.142      0.003       8.069      37.052\n",
              "TradeBalance          -0.0001    4.7e-05     -2.623      0.012      -0.000   -2.84e-05\n",
              "Real Interest Rate     0.0774      0.708      0.109      0.913      -1.352       1.507\n",
              "FDI in % of GDP       11.7977      3.161      3.732      0.001       5.418      18.177\n",
              "Inflation             -0.6217      0.358     -1.736      0.090      -1.344       0.101\n",
              "GDP growth             0.1959      0.555      0.353      0.726      -0.925       1.317\n",
              "==============================================================================\n",
              "Omnibus:                        6.117   Durbin-Watson:                   0.309\n",
              "Prob(Omnibus):                  0.047   Jarque-Bera (JB):                2.588\n",
              "Skew:                          -0.247   Prob(JB):                        0.274\n",
              "Kurtosis:                       1.976   Cond. No.                     3.26e+05\n",
              "==============================================================================\n",
              "\n",
              "Warnings:\n",
              "[1] Standard Errors assume that the covariance matrix of the errors is correctly specified.\n",
              "[2] The condition number is large, 3.26e+05. This might indicate that there are\n",
              "strong multicollinearity or other numerical problems.\n",
              "\"\"\""
            ],
            "text/html": [
              "<table class=\"simpletable\">\n",
              "<caption>OLS Regression Results</caption>\n",
              "<tr>\n",
              "  <th>Dep. Variable:</th>    <td>Exchange Rate(INR/USD)</td> <th>  R-squared:         </th> <td>   0.723</td>\n",
              "</tr>\n",
              "<tr>\n",
              "  <th>Model:</th>                      <td>OLS</td>          <th>  Adj. R-squared:    </th> <td>   0.690</td>\n",
              "</tr>\n",
              "<tr>\n",
              "  <th>Method:</th>                <td>Least Squares</td>     <th>  F-statistic:       </th> <td>   21.89</td>\n",
              "</tr>\n",
              "<tr>\n",
              "  <th>Date:</th>                <td>Wed, 06 Jul 2022</td>    <th>  Prob (F-statistic):</th> <td>9.99e-11</td>\n",
              "</tr>\n",
              "<tr>\n",
              "  <th>Time:</th>                    <td>16:21:10</td>        <th>  Log-Likelihood:    </th> <td> -183.70</td>\n",
              "</tr>\n",
              "<tr>\n",
              "  <th>No. Observations:</th>         <td>    48</td>         <th>  AIC:               </th> <td>   379.4</td>\n",
              "</tr>\n",
              "<tr>\n",
              "  <th>Df Residuals:</th>             <td>    42</td>         <th>  BIC:               </th> <td>   390.6</td>\n",
              "</tr>\n",
              "<tr>\n",
              "  <th>Df Model:</th>                 <td>     5</td>         <th>                     </th>     <td> </td>   \n",
              "</tr>\n",
              "<tr>\n",
              "  <th>Covariance Type:</th>         <td>nonrobust</td>       <th>                     </th>     <td> </td>   \n",
              "</tr>\n",
              "</table>\n",
              "<table class=\"simpletable\">\n",
              "<tr>\n",
              "           <td></td>             <th>coef</th>     <th>std err</th>      <th>t</th>      <th>P>|t|</th>  <th>[0.025</th>    <th>0.975]</th>  \n",
              "</tr>\n",
              "<tr>\n",
              "  <th>const</th>              <td>   22.5607</td> <td>    7.181</td> <td>    3.142</td> <td> 0.003</td> <td>    8.069</td> <td>   37.052</td>\n",
              "</tr>\n",
              "<tr>\n",
              "  <th>TradeBalance</th>       <td>   -0.0001</td> <td>  4.7e-05</td> <td>   -2.623</td> <td> 0.012</td> <td>   -0.000</td> <td>-2.84e-05</td>\n",
              "</tr>\n",
              "<tr>\n",
              "  <th>Real Interest Rate</th> <td>    0.0774</td> <td>    0.708</td> <td>    0.109</td> <td> 0.913</td> <td>   -1.352</td> <td>    1.507</td>\n",
              "</tr>\n",
              "<tr>\n",
              "  <th>FDI in % of GDP</th>    <td>   11.7977</td> <td>    3.161</td> <td>    3.732</td> <td> 0.001</td> <td>    5.418</td> <td>   18.177</td>\n",
              "</tr>\n",
              "<tr>\n",
              "  <th>Inflation</th>          <td>   -0.6217</td> <td>    0.358</td> <td>   -1.736</td> <td> 0.090</td> <td>   -1.344</td> <td>    0.101</td>\n",
              "</tr>\n",
              "<tr>\n",
              "  <th>GDP growth</th>         <td>    0.1959</td> <td>    0.555</td> <td>    0.353</td> <td> 0.726</td> <td>   -0.925</td> <td>    1.317</td>\n",
              "</tr>\n",
              "</table>\n",
              "<table class=\"simpletable\">\n",
              "<tr>\n",
              "  <th>Omnibus:</th>       <td> 6.117</td> <th>  Durbin-Watson:     </th> <td>   0.309</td>\n",
              "</tr>\n",
              "<tr>\n",
              "  <th>Prob(Omnibus):</th> <td> 0.047</td> <th>  Jarque-Bera (JB):  </th> <td>   2.588</td>\n",
              "</tr>\n",
              "<tr>\n",
              "  <th>Skew:</th>          <td>-0.247</td> <th>  Prob(JB):          </th> <td>   0.274</td>\n",
              "</tr>\n",
              "<tr>\n",
              "  <th>Kurtosis:</th>      <td> 1.976</td> <th>  Cond. No.          </th> <td>3.26e+05</td>\n",
              "</tr>\n",
              "</table><br/><br/>Warnings:<br/>[1] Standard Errors assume that the covariance matrix of the errors is correctly specified.<br/>[2] The condition number is large, 3.26e+05. This might indicate that there are<br/>strong multicollinearity or other numerical problems."
            ]
          },
          "metadata": {},
          "execution_count": 28
        }
      ]
    },
    {
      "cell_type": "markdown",
      "source": [
        "Finding VIF"
      ],
      "metadata": {
        "id": "gQ7g5vuFzniC"
      },
      "id": "gQ7g5vuFzniC"
    },
    {
      "cell_type": "code",
      "source": [
        "from statsmodels.stats.outliers_influence import variance_inflation_factor"
      ],
      "metadata": {
        "id": "p0NGC4RVxfAZ"
      },
      "id": "p0NGC4RVxfAZ",
      "execution_count": null,
      "outputs": []
    },
    {
      "cell_type": "code",
      "source": [
        "vif_data = pd.DataFrame()\n",
        "vif_data[\"feature\"] = x.columns\n",
        "\n",
        "# calculating VIF for each feature\n",
        "vif_data[\"VIF\"] = [variance_inflation_factor(x.values, i)\n",
        "                          for i in range(len(x.columns))]"
      ],
      "metadata": {
        "id": "6OXMaBbjznAZ"
      },
      "id": "6OXMaBbjznAZ",
      "execution_count": null,
      "outputs": []
    },
    {
      "cell_type": "code",
      "source": [
        "vif_data"
      ],
      "metadata": {
        "colab": {
          "base_uri": "https://localhost:8080/",
          "height": 206
        },
        "id": "tW81Gm6Qzwb4",
        "outputId": "ee7621a0-1baa-46f6-dfe3-cc61163ebe09"
      },
      "id": "tW81Gm6Qzwb4",
      "execution_count": null,
      "outputs": [
        {
          "output_type": "execute_result",
          "data": {
            "text/plain": [
              "              feature       VIF\n",
              "0        TradeBalance  4.329031\n",
              "1  Real Interest Rate  3.867425\n",
              "2     FDI in % of GDP  4.580814\n",
              "3           Inflation  2.575794\n",
              "4          GDP growth  3.842033"
            ],
            "text/html": [
              "\n",
              "  <div id=\"df-e0bb32a8-64b0-4272-ab6f-50b9dfeb28ed\">\n",
              "    <div class=\"colab-df-container\">\n",
              "      <div>\n",
              "<style scoped>\n",
              "    .dataframe tbody tr th:only-of-type {\n",
              "        vertical-align: middle;\n",
              "    }\n",
              "\n",
              "    .dataframe tbody tr th {\n",
              "        vertical-align: top;\n",
              "    }\n",
              "\n",
              "    .dataframe thead th {\n",
              "        text-align: right;\n",
              "    }\n",
              "</style>\n",
              "<table border=\"1\" class=\"dataframe\">\n",
              "  <thead>\n",
              "    <tr style=\"text-align: right;\">\n",
              "      <th></th>\n",
              "      <th>feature</th>\n",
              "      <th>VIF</th>\n",
              "    </tr>\n",
              "  </thead>\n",
              "  <tbody>\n",
              "    <tr>\n",
              "      <th>0</th>\n",
              "      <td>TradeBalance</td>\n",
              "      <td>4.329031</td>\n",
              "    </tr>\n",
              "    <tr>\n",
              "      <th>1</th>\n",
              "      <td>Real Interest Rate</td>\n",
              "      <td>3.867425</td>\n",
              "    </tr>\n",
              "    <tr>\n",
              "      <th>2</th>\n",
              "      <td>FDI in % of GDP</td>\n",
              "      <td>4.580814</td>\n",
              "    </tr>\n",
              "    <tr>\n",
              "      <th>3</th>\n",
              "      <td>Inflation</td>\n",
              "      <td>2.575794</td>\n",
              "    </tr>\n",
              "    <tr>\n",
              "      <th>4</th>\n",
              "      <td>GDP growth</td>\n",
              "      <td>3.842033</td>\n",
              "    </tr>\n",
              "  </tbody>\n",
              "</table>\n",
              "</div>\n",
              "      <button class=\"colab-df-convert\" onclick=\"convertToInteractive('df-e0bb32a8-64b0-4272-ab6f-50b9dfeb28ed')\"\n",
              "              title=\"Convert this dataframe to an interactive table.\"\n",
              "              style=\"display:none;\">\n",
              "        \n",
              "  <svg xmlns=\"http://www.w3.org/2000/svg\" height=\"24px\"viewBox=\"0 0 24 24\"\n",
              "       width=\"24px\">\n",
              "    <path d=\"M0 0h24v24H0V0z\" fill=\"none\"/>\n",
              "    <path d=\"M18.56 5.44l.94 2.06.94-2.06 2.06-.94-2.06-.94-.94-2.06-.94 2.06-2.06.94zm-11 1L8.5 8.5l.94-2.06 2.06-.94-2.06-.94L8.5 2.5l-.94 2.06-2.06.94zm10 10l.94 2.06.94-2.06 2.06-.94-2.06-.94-.94-2.06-.94 2.06-2.06.94z\"/><path d=\"M17.41 7.96l-1.37-1.37c-.4-.4-.92-.59-1.43-.59-.52 0-1.04.2-1.43.59L10.3 9.45l-7.72 7.72c-.78.78-.78 2.05 0 2.83L4 21.41c.39.39.9.59 1.41.59.51 0 1.02-.2 1.41-.59l7.78-7.78 2.81-2.81c.8-.78.8-2.07 0-2.86zM5.41 20L4 18.59l7.72-7.72 1.47 1.35L5.41 20z\"/>\n",
              "  </svg>\n",
              "      </button>\n",
              "      \n",
              "  <style>\n",
              "    .colab-df-container {\n",
              "      display:flex;\n",
              "      flex-wrap:wrap;\n",
              "      gap: 12px;\n",
              "    }\n",
              "\n",
              "    .colab-df-convert {\n",
              "      background-color: #E8F0FE;\n",
              "      border: none;\n",
              "      border-radius: 50%;\n",
              "      cursor: pointer;\n",
              "      display: none;\n",
              "      fill: #1967D2;\n",
              "      height: 32px;\n",
              "      padding: 0 0 0 0;\n",
              "      width: 32px;\n",
              "    }\n",
              "\n",
              "    .colab-df-convert:hover {\n",
              "      background-color: #E2EBFA;\n",
              "      box-shadow: 0px 1px 2px rgba(60, 64, 67, 0.3), 0px 1px 3px 1px rgba(60, 64, 67, 0.15);\n",
              "      fill: #174EA6;\n",
              "    }\n",
              "\n",
              "    [theme=dark] .colab-df-convert {\n",
              "      background-color: #3B4455;\n",
              "      fill: #D2E3FC;\n",
              "    }\n",
              "\n",
              "    [theme=dark] .colab-df-convert:hover {\n",
              "      background-color: #434B5C;\n",
              "      box-shadow: 0px 1px 3px 1px rgba(0, 0, 0, 0.15);\n",
              "      filter: drop-shadow(0px 1px 2px rgba(0, 0, 0, 0.3));\n",
              "      fill: #FFFFFF;\n",
              "    }\n",
              "  </style>\n",
              "\n",
              "      <script>\n",
              "        const buttonEl =\n",
              "          document.querySelector('#df-e0bb32a8-64b0-4272-ab6f-50b9dfeb28ed button.colab-df-convert');\n",
              "        buttonEl.style.display =\n",
              "          google.colab.kernel.accessAllowed ? 'block' : 'none';\n",
              "\n",
              "        async function convertToInteractive(key) {\n",
              "          const element = document.querySelector('#df-e0bb32a8-64b0-4272-ab6f-50b9dfeb28ed');\n",
              "          const dataTable =\n",
              "            await google.colab.kernel.invokeFunction('convertToInteractive',\n",
              "                                                     [key], {});\n",
              "          if (!dataTable) return;\n",
              "\n",
              "          const docLinkHtml = 'Like what you see? Visit the ' +\n",
              "            '<a target=\"_blank\" href=https://colab.research.google.com/notebooks/data_table.ipynb>data table notebook</a>'\n",
              "            + ' to learn more about interactive tables.';\n",
              "          element.innerHTML = '';\n",
              "          dataTable['output_type'] = 'display_data';\n",
              "          await google.colab.output.renderOutput(dataTable, element);\n",
              "          const docLink = document.createElement('div');\n",
              "          docLink.innerHTML = docLinkHtml;\n",
              "          element.appendChild(docLink);\n",
              "        }\n",
              "      </script>\n",
              "    </div>\n",
              "  </div>\n",
              "  "
            ]
          },
          "metadata": {},
          "execution_count": 31
        }
      ]
    },
    {
      "cell_type": "markdown",
      "source": [
        "VIF is below 10 so no multicollinearity"
      ],
      "metadata": {
        "id": "S_V_BYYvz54O"
      },
      "id": "S_V_BYYvz54O"
    },
    {
      "cell_type": "markdown",
      "source": [
        "# Evaluation"
      ],
      "metadata": {
        "id": "9Z0OfSzv2Ugm"
      },
      "id": "9Z0OfSzv2Ugm"
    },
    {
      "cell_type": "code",
      "source": [
        "y_pred=22.7546-0.0003*train_df['TradeBalance']-0.0470*train_df['Real Interest Rate']"
      ],
      "metadata": {
        "id": "G7eneT_W1GjP"
      },
      "id": "G7eneT_W1GjP",
      "execution_count": null,
      "outputs": []
    },
    {
      "cell_type": "code",
      "source": [
        "from sklearn.metrics import mean_squared_error\n",
        "from math import sqrt\n",
        "\n",
        "rms = sqrt(mean_squared_error(y, y_pred))"
      ],
      "metadata": {
        "id": "jAmGsPil1G0o"
      },
      "id": "jAmGsPil1G0o",
      "execution_count": null,
      "outputs": []
    },
    {
      "cell_type": "markdown",
      "source": [
        "RMSE value"
      ],
      "metadata": {
        "id": "n-PSVxRw2YVW"
      },
      "id": "n-PSVxRw2YVW"
    },
    {
      "cell_type": "code",
      "source": [
        "rms"
      ],
      "metadata": {
        "colab": {
          "base_uri": "https://localhost:8080/"
        },
        "id": "fnXc9t_K2RXp",
        "outputId": "472ed3a7-8e92-4a84-dd1c-3df10744bd7d"
      },
      "id": "fnXc9t_K2RXp",
      "execution_count": null,
      "outputs": [
        {
          "output_type": "execute_result",
          "data": {
            "text/plain": [
              "13.661474573364085"
            ]
          },
          "metadata": {},
          "execution_count": 34
        }
      ]
    },
    {
      "cell_type": "code",
      "source": [],
      "metadata": {
        "id": "go6e2lW9UWIl"
      },
      "id": "go6e2lW9UWIl",
      "execution_count": null,
      "outputs": []
    }
  ],
  "metadata": {
    "kernelspec": {
      "display_name": "Python 3 (ipykernel)",
      "language": "python",
      "name": "python3"
    },
    "language_info": {
      "codemirror_mode": {
        "name": "ipython",
        "version": 3
      },
      "file_extension": ".py",
      "mimetype": "text/x-python",
      "name": "python",
      "nbconvert_exporter": "python",
      "pygments_lexer": "ipython3",
      "version": "3.9.12"
    },
    "colab": {
      "provenance": [],
      "toc_visible": true,
      "include_colab_link": true
    }
  },
  "nbformat": 4,
  "nbformat_minor": 5
}